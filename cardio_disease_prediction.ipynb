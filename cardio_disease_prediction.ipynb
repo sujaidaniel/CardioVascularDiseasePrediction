{
  "cells": [
    {
      "cell_type": "markdown",
      "metadata": {
        "id": "r6nPUSup6Di_"
      },
      "source": [
        "### Aim:\n",
        "1.  Analyse what are the significant features related to cardiovascular diseases\n",
        "2.  Suggest a model that can classify and make predictions on whether an individual is susceptible to cardiovascular diseases"
      ]
    },
    {
      "cell_type": "code",
      "execution_count": null,
      "metadata": {
        "id": "jOr7fG8N6DjD",
        "outputId": "3e25292f-b37b-4f8b-d285-8019126359ae"
      },
      "outputs": [
        {
          "name": "stderr",
          "output_type": "stream",
          "text": [
            "\n",
            "Attaching package: ‘dplyr’\n",
            "\n",
            "\n",
            "The following objects are masked from ‘package:stats’:\n",
            "\n",
            "    filter, lag\n",
            "\n",
            "\n",
            "The following objects are masked from ‘package:base’:\n",
            "\n",
            "    intersect, setdiff, setequal, union\n",
            "\n",
            "\n",
            "corrplot 0.92 loaded\n",
            "\n",
            "Loading required package: ggplot2\n",
            "\n",
            "\n",
            "Attaching package: ‘ggplot2’\n",
            "\n",
            "\n",
            "The following objects are masked from ‘package:psych’:\n",
            "\n",
            "    %+%, alpha\n",
            "\n",
            "\n",
            "Loading required package: lattice\n",
            "\n"
          ]
        }
      ],
      "source": [
        "library(psych)\n",
        "library(dplyr)\n",
        "library(corrplot)\n",
        "library(caret)\n",
        "library(rpart)\n",
        "library(rpart.plot)\n",
        "library(e1071)"
      ]
    },
    {
      "cell_type": "markdown",
      "metadata": {
        "id": "V7GEbSdv6DjG"
      },
      "source": [
        "First, import and inspect the data set."
      ]
    },
    {
      "cell_type": "code",
      "execution_count": null,
      "metadata": {
        "id": "msVTyEN36DjG",
        "outputId": "1cf5195b-0a32-4707-c250-f478bfe9d7bf"
      },
      "outputs": [
        {
          "data": {
            "text/html": [
              "<table class=\"dataframe\">\n",
              "<caption>A data.frame: 6 × 13</caption>\n",
              "<thead>\n",
              "\t<tr><th></th><th scope=col>id</th><th scope=col>age</th><th scope=col>gender</th><th scope=col>height</th><th scope=col>weight</th><th scope=col>ap_hi</th><th scope=col>ap_lo</th><th scope=col>cholesterol</th><th scope=col>gluc</th><th scope=col>smoke</th><th scope=col>alco</th><th scope=col>active</th><th scope=col>cardio</th></tr>\n",
              "\t<tr><th></th><th scope=col>&lt;int&gt;</th><th scope=col>&lt;int&gt;</th><th scope=col>&lt;int&gt;</th><th scope=col>&lt;int&gt;</th><th scope=col>&lt;dbl&gt;</th><th scope=col>&lt;int&gt;</th><th scope=col>&lt;int&gt;</th><th scope=col>&lt;int&gt;</th><th scope=col>&lt;int&gt;</th><th scope=col>&lt;int&gt;</th><th scope=col>&lt;int&gt;</th><th scope=col>&lt;int&gt;</th><th scope=col>&lt;int&gt;</th></tr>\n",
              "</thead>\n",
              "<tbody>\n",
              "\t<tr><th scope=row>1</th><td>0</td><td>18393</td><td>2</td><td>168</td><td>62</td><td>110</td><td> 80</td><td>1</td><td>1</td><td>0</td><td>0</td><td>1</td><td>0</td></tr>\n",
              "\t<tr><th scope=row>2</th><td>1</td><td>20228</td><td>1</td><td>156</td><td>85</td><td>140</td><td> 90</td><td>3</td><td>1</td><td>0</td><td>0</td><td>1</td><td>1</td></tr>\n",
              "\t<tr><th scope=row>3</th><td>2</td><td>18857</td><td>1</td><td>165</td><td>64</td><td>130</td><td> 70</td><td>3</td><td>1</td><td>0</td><td>0</td><td>0</td><td>1</td></tr>\n",
              "\t<tr><th scope=row>4</th><td>3</td><td>17623</td><td>2</td><td>169</td><td>82</td><td>150</td><td>100</td><td>1</td><td>1</td><td>0</td><td>0</td><td>1</td><td>1</td></tr>\n",
              "\t<tr><th scope=row>5</th><td>4</td><td>17474</td><td>1</td><td>156</td><td>56</td><td>100</td><td> 60</td><td>1</td><td>1</td><td>0</td><td>0</td><td>0</td><td>0</td></tr>\n",
              "\t<tr><th scope=row>6</th><td>8</td><td>21914</td><td>1</td><td>151</td><td>67</td><td>120</td><td> 80</td><td>2</td><td>2</td><td>0</td><td>0</td><td>0</td><td>0</td></tr>\n",
              "</tbody>\n",
              "</table>\n"
            ],
            "text/latex": [
              "A data.frame: 6 × 13\n",
              "\\begin{tabular}{r|lllllllllllll}\n",
              "  & id & age & gender & height & weight & ap\\_hi & ap\\_lo & cholesterol & gluc & smoke & alco & active & cardio\\\\\n",
              "  & <int> & <int> & <int> & <int> & <dbl> & <int> & <int> & <int> & <int> & <int> & <int> & <int> & <int>\\\\\n",
              "\\hline\n",
              "\t1 & 0 & 18393 & 2 & 168 & 62 & 110 &  80 & 1 & 1 & 0 & 0 & 1 & 0\\\\\n",
              "\t2 & 1 & 20228 & 1 & 156 & 85 & 140 &  90 & 3 & 1 & 0 & 0 & 1 & 1\\\\\n",
              "\t3 & 2 & 18857 & 1 & 165 & 64 & 130 &  70 & 3 & 1 & 0 & 0 & 0 & 1\\\\\n",
              "\t4 & 3 & 17623 & 2 & 169 & 82 & 150 & 100 & 1 & 1 & 0 & 0 & 1 & 1\\\\\n",
              "\t5 & 4 & 17474 & 1 & 156 & 56 & 100 &  60 & 1 & 1 & 0 & 0 & 0 & 0\\\\\n",
              "\t6 & 8 & 21914 & 1 & 151 & 67 & 120 &  80 & 2 & 2 & 0 & 0 & 0 & 0\\\\\n",
              "\\end{tabular}\n"
            ],
            "text/markdown": [
              "\n",
              "A data.frame: 6 × 13\n",
              "\n",
              "| <!--/--> | id &lt;int&gt; | age &lt;int&gt; | gender &lt;int&gt; | height &lt;int&gt; | weight &lt;dbl&gt; | ap_hi &lt;int&gt; | ap_lo &lt;int&gt; | cholesterol &lt;int&gt; | gluc &lt;int&gt; | smoke &lt;int&gt; | alco &lt;int&gt; | active &lt;int&gt; | cardio &lt;int&gt; |\n",
              "|---|---|---|---|---|---|---|---|---|---|---|---|---|---|\n",
              "| 1 | 0 | 18393 | 2 | 168 | 62 | 110 |  80 | 1 | 1 | 0 | 0 | 1 | 0 |\n",
              "| 2 | 1 | 20228 | 1 | 156 | 85 | 140 |  90 | 3 | 1 | 0 | 0 | 1 | 1 |\n",
              "| 3 | 2 | 18857 | 1 | 165 | 64 | 130 |  70 | 3 | 1 | 0 | 0 | 0 | 1 |\n",
              "| 4 | 3 | 17623 | 2 | 169 | 82 | 150 | 100 | 1 | 1 | 0 | 0 | 1 | 1 |\n",
              "| 5 | 4 | 17474 | 1 | 156 | 56 | 100 |  60 | 1 | 1 | 0 | 0 | 0 | 0 |\n",
              "| 6 | 8 | 21914 | 1 | 151 | 67 | 120 |  80 | 2 | 2 | 0 | 0 | 0 | 0 |\n",
              "\n"
            ],
            "text/plain": [
              "  id age   gender height weight ap_hi ap_lo cholesterol gluc smoke alco active\n",
              "1 0  18393 2      168    62     110    80   1           1    0     0    1     \n",
              "2 1  20228 1      156    85     140    90   3           1    0     0    1     \n",
              "3 2  18857 1      165    64     130    70   3           1    0     0    0     \n",
              "4 3  17623 2      169    82     150   100   1           1    0     0    1     \n",
              "5 4  17474 1      156    56     100    60   1           1    0     0    0     \n",
              "6 8  21914 1      151    67     120    80   2           2    0     0    0     \n",
              "  cardio\n",
              "1 0     \n",
              "2 1     \n",
              "3 1     \n",
              "4 1     \n",
              "5 0     \n",
              "6 0     "
            ]
          },
          "metadata": {},
          "output_type": "display_data"
        }
      ],
      "source": [
        "cardio <- read.csv(\"cardio_train.csv\", sep = \";\")\n",
        "head(cardio)"
      ]
    },
    {
      "cell_type": "code",
      "execution_count": null,
      "metadata": {
        "id": "dhvrZ0x16DjH",
        "outputId": "4d33e65b-e9ee-4937-9919-0f97e0260f6d"
      },
      "outputs": [
        {
          "data": {
            "text/html": [
              "<table class=\"dataframe\">\n",
              "<caption>A psych: 13 × 13</caption>\n",
              "<thead>\n",
              "\t<tr><th></th><th scope=col>vars</th><th scope=col>n</th><th scope=col>mean</th><th scope=col>sd</th><th scope=col>median</th><th scope=col>trimmed</th><th scope=col>mad</th><th scope=col>min</th><th scope=col>max</th><th scope=col>range</th><th scope=col>skew</th><th scope=col>kurtosis</th><th scope=col>se</th></tr>\n",
              "\t<tr><th></th><th scope=col>&lt;int&gt;</th><th scope=col>&lt;dbl&gt;</th><th scope=col>&lt;dbl&gt;</th><th scope=col>&lt;dbl&gt;</th><th scope=col>&lt;dbl&gt;</th><th scope=col>&lt;dbl&gt;</th><th scope=col>&lt;dbl&gt;</th><th scope=col>&lt;dbl&gt;</th><th scope=col>&lt;dbl&gt;</th><th scope=col>&lt;dbl&gt;</th><th scope=col>&lt;dbl&gt;</th><th scope=col>&lt;dbl&gt;</th><th scope=col>&lt;dbl&gt;</th></tr>\n",
              "</thead>\n",
              "<tbody>\n",
              "\t<tr><th scope=row>id</th><td> 1</td><td>70000</td><td>4.997242e+04</td><td>2.885130e+04</td><td>50001.5</td><td>4.997651e+04</td><td>36981.9744</td><td>    0</td><td>99999</td><td>99999</td><td>-0.001277758</td><td>  -1.1984252</td><td>1.090477e+02</td></tr>\n",
              "\t<tr><th scope=row>age</th><td> 2</td><td>70000</td><td>1.946887e+04</td><td>2.467252e+03</td><td>19703.0</td><td>1.956932e+04</td><td> 2536.7286</td><td>10798</td><td>23713</td><td>12915</td><td>-0.307042236</td><td>  -0.8235359</td><td>9.325335e+00</td></tr>\n",
              "\t<tr><th scope=row>gender</th><td> 3</td><td>70000</td><td>1.349571e+00</td><td>4.768380e-01</td><td>    1.0</td><td>1.311964e+00</td><td>    0.0000</td><td>    1</td><td>    2</td><td>    1</td><td> 0.630933011</td><td>  -1.6019464</td><td>1.802278e-03</td></tr>\n",
              "\t<tr><th scope=row>height</th><td> 4</td><td>70000</td><td>1.643592e+02</td><td>8.210126e+00</td><td>  165.0</td><td>1.643226e+02</td><td>    7.4130</td><td>   55</td><td>  250</td><td>  195</td><td>-0.642159930</td><td>   7.9426868</td><td>3.103136e-02</td></tr>\n",
              "\t<tr><th scope=row>weight</th><td> 5</td><td>70000</td><td>7.420569e+01</td><td>1.439576e+01</td><td>   72.0</td><td>7.310963e+01</td><td>   11.8608</td><td>   10</td><td>  200</td><td>  190</td><td> 1.012026734</td><td>   2.5863954</td><td>5.441085e-02</td></tr>\n",
              "\t<tr><th scope=row>ap_hi</th><td> 6</td><td>70000</td><td>1.288173e+02</td><td>1.540114e+02</td><td>  120.0</td><td>1.256049e+02</td><td>   14.8260</td><td> -150</td><td>16020</td><td>16170</td><td>85.292558338</td><td>7579.3165867</td><td>5.821084e-01</td></tr>\n",
              "\t<tr><th scope=row>ap_lo</th><td> 7</td><td>70000</td><td>9.663041e+01</td><td>1.884725e+02</td><td>   80.0</td><td>8.127688e+01</td><td>    1.4826</td><td>  -70</td><td>11000</td><td>11070</td><td>32.112706530</td><td>1425.7718273</td><td>7.123592e-01</td></tr>\n",
              "\t<tr><th scope=row>cholesterol</th><td> 8</td><td>70000</td><td>1.366871e+00</td><td>6.802503e-01</td><td>    1.0</td><td>1.208589e+00</td><td>    0.0000</td><td>    1</td><td>    3</td><td>    2</td><td> 1.587055377</td><td>   0.9936307</td><td>2.571105e-03</td></tr>\n",
              "\t<tr><th scope=row>gluc</th><td> 9</td><td>70000</td><td>1.226457e+00</td><td>5.722703e-01</td><td>    1.0</td><td>1.062875e+00</td><td>    0.0000</td><td>    1</td><td>    3</td><td>    2</td><td> 2.397359064</td><td>   4.2937764</td><td>2.162978e-03</td></tr>\n",
              "\t<tr><th scope=row>smoke</th><td>10</td><td>70000</td><td>8.812857e-02</td><td>2.834838e-01</td><td>    0.0</td><td>0.000000e+00</td><td>    0.0000</td><td>    0</td><td>    1</td><td>    1</td><td> 2.905742905</td><td>   6.4434339</td><td>1.071468e-03</td></tr>\n",
              "\t<tr><th scope=row>alco</th><td>11</td><td>70000</td><td>5.377143e-02</td><td>2.255677e-01</td><td>    0.0</td><td>0.000000e+00</td><td>    0.0000</td><td>    0</td><td>    1</td><td>    1</td><td> 3.956436933</td><td>  13.6535883</td><td>8.525658e-04</td></tr>\n",
              "\t<tr><th scope=row>active</th><td>12</td><td>70000</td><td>8.037286e-01</td><td>3.971791e-01</td><td>    1.0</td><td>8.796607e-01</td><td>    0.0000</td><td>    0</td><td>    1</td><td>    1</td><td>-1.529407063</td><td>   0.3390908</td><td>1.501196e-03</td></tr>\n",
              "\t<tr><th scope=row>cardio</th><td>13</td><td>70000</td><td>4.997000e-01</td><td>5.000035e-01</td><td>    0.0</td><td>4.996250e-01</td><td>    0.0000</td><td>    0</td><td>    1</td><td>    1</td><td> 0.001199975</td><td>  -2.0000271</td><td>1.889836e-03</td></tr>\n",
              "</tbody>\n",
              "</table>\n"
            ],
            "text/latex": [
              "A psych: 13 × 13\n",
              "\\begin{tabular}{r|lllllllllllll}\n",
              "  & vars & n & mean & sd & median & trimmed & mad & min & max & range & skew & kurtosis & se\\\\\n",
              "  & <int> & <dbl> & <dbl> & <dbl> & <dbl> & <dbl> & <dbl> & <dbl> & <dbl> & <dbl> & <dbl> & <dbl> & <dbl>\\\\\n",
              "\\hline\n",
              "\tid &  1 & 70000 & 4.997242e+04 & 2.885130e+04 & 50001.5 & 4.997651e+04 & 36981.9744 &     0 & 99999 & 99999 & -0.001277758 &   -1.1984252 & 1.090477e+02\\\\\n",
              "\tage &  2 & 70000 & 1.946887e+04 & 2.467252e+03 & 19703.0 & 1.956932e+04 &  2536.7286 & 10798 & 23713 & 12915 & -0.307042236 &   -0.8235359 & 9.325335e+00\\\\\n",
              "\tgender &  3 & 70000 & 1.349571e+00 & 4.768380e-01 &     1.0 & 1.311964e+00 &     0.0000 &     1 &     2 &     1 &  0.630933011 &   -1.6019464 & 1.802278e-03\\\\\n",
              "\theight &  4 & 70000 & 1.643592e+02 & 8.210126e+00 &   165.0 & 1.643226e+02 &     7.4130 &    55 &   250 &   195 & -0.642159930 &    7.9426868 & 3.103136e-02\\\\\n",
              "\tweight &  5 & 70000 & 7.420569e+01 & 1.439576e+01 &    72.0 & 7.310963e+01 &    11.8608 &    10 &   200 &   190 &  1.012026734 &    2.5863954 & 5.441085e-02\\\\\n",
              "\tap\\_hi &  6 & 70000 & 1.288173e+02 & 1.540114e+02 &   120.0 & 1.256049e+02 &    14.8260 &  -150 & 16020 & 16170 & 85.292558338 & 7579.3165867 & 5.821084e-01\\\\\n",
              "\tap\\_lo &  7 & 70000 & 9.663041e+01 & 1.884725e+02 &    80.0 & 8.127688e+01 &     1.4826 &   -70 & 11000 & 11070 & 32.112706530 & 1425.7718273 & 7.123592e-01\\\\\n",
              "\tcholesterol &  8 & 70000 & 1.366871e+00 & 6.802503e-01 &     1.0 & 1.208589e+00 &     0.0000 &     1 &     3 &     2 &  1.587055377 &    0.9936307 & 2.571105e-03\\\\\n",
              "\tgluc &  9 & 70000 & 1.226457e+00 & 5.722703e-01 &     1.0 & 1.062875e+00 &     0.0000 &     1 &     3 &     2 &  2.397359064 &    4.2937764 & 2.162978e-03\\\\\n",
              "\tsmoke & 10 & 70000 & 8.812857e-02 & 2.834838e-01 &     0.0 & 0.000000e+00 &     0.0000 &     0 &     1 &     1 &  2.905742905 &    6.4434339 & 1.071468e-03\\\\\n",
              "\talco & 11 & 70000 & 5.377143e-02 & 2.255677e-01 &     0.0 & 0.000000e+00 &     0.0000 &     0 &     1 &     1 &  3.956436933 &   13.6535883 & 8.525658e-04\\\\\n",
              "\tactive & 12 & 70000 & 8.037286e-01 & 3.971791e-01 &     1.0 & 8.796607e-01 &     0.0000 &     0 &     1 &     1 & -1.529407063 &    0.3390908 & 1.501196e-03\\\\\n",
              "\tcardio & 13 & 70000 & 4.997000e-01 & 5.000035e-01 &     0.0 & 4.996250e-01 &     0.0000 &     0 &     1 &     1 &  0.001199975 &   -2.0000271 & 1.889836e-03\\\\\n",
              "\\end{tabular}\n"
            ],
            "text/markdown": [
              "\n",
              "A psych: 13 × 13\n",
              "\n",
              "| <!--/--> | vars &lt;int&gt; | n &lt;dbl&gt; | mean &lt;dbl&gt; | sd &lt;dbl&gt; | median &lt;dbl&gt; | trimmed &lt;dbl&gt; | mad &lt;dbl&gt; | min &lt;dbl&gt; | max &lt;dbl&gt; | range &lt;dbl&gt; | skew &lt;dbl&gt; | kurtosis &lt;dbl&gt; | se &lt;dbl&gt; |\n",
              "|---|---|---|---|---|---|---|---|---|---|---|---|---|---|\n",
              "| id |  1 | 70000 | 4.997242e+04 | 2.885130e+04 | 50001.5 | 4.997651e+04 | 36981.9744 |     0 | 99999 | 99999 | -0.001277758 |   -1.1984252 | 1.090477e+02 |\n",
              "| age |  2 | 70000 | 1.946887e+04 | 2.467252e+03 | 19703.0 | 1.956932e+04 |  2536.7286 | 10798 | 23713 | 12915 | -0.307042236 |   -0.8235359 | 9.325335e+00 |\n",
              "| gender |  3 | 70000 | 1.349571e+00 | 4.768380e-01 |     1.0 | 1.311964e+00 |     0.0000 |     1 |     2 |     1 |  0.630933011 |   -1.6019464 | 1.802278e-03 |\n",
              "| height |  4 | 70000 | 1.643592e+02 | 8.210126e+00 |   165.0 | 1.643226e+02 |     7.4130 |    55 |   250 |   195 | -0.642159930 |    7.9426868 | 3.103136e-02 |\n",
              "| weight |  5 | 70000 | 7.420569e+01 | 1.439576e+01 |    72.0 | 7.310963e+01 |    11.8608 |    10 |   200 |   190 |  1.012026734 |    2.5863954 | 5.441085e-02 |\n",
              "| ap_hi |  6 | 70000 | 1.288173e+02 | 1.540114e+02 |   120.0 | 1.256049e+02 |    14.8260 |  -150 | 16020 | 16170 | 85.292558338 | 7579.3165867 | 5.821084e-01 |\n",
              "| ap_lo |  7 | 70000 | 9.663041e+01 | 1.884725e+02 |    80.0 | 8.127688e+01 |     1.4826 |   -70 | 11000 | 11070 | 32.112706530 | 1425.7718273 | 7.123592e-01 |\n",
              "| cholesterol |  8 | 70000 | 1.366871e+00 | 6.802503e-01 |     1.0 | 1.208589e+00 |     0.0000 |     1 |     3 |     2 |  1.587055377 |    0.9936307 | 2.571105e-03 |\n",
              "| gluc |  9 | 70000 | 1.226457e+00 | 5.722703e-01 |     1.0 | 1.062875e+00 |     0.0000 |     1 |     3 |     2 |  2.397359064 |    4.2937764 | 2.162978e-03 |\n",
              "| smoke | 10 | 70000 | 8.812857e-02 | 2.834838e-01 |     0.0 | 0.000000e+00 |     0.0000 |     0 |     1 |     1 |  2.905742905 |    6.4434339 | 1.071468e-03 |\n",
              "| alco | 11 | 70000 | 5.377143e-02 | 2.255677e-01 |     0.0 | 0.000000e+00 |     0.0000 |     0 |     1 |     1 |  3.956436933 |   13.6535883 | 8.525658e-04 |\n",
              "| active | 12 | 70000 | 8.037286e-01 | 3.971791e-01 |     1.0 | 8.796607e-01 |     0.0000 |     0 |     1 |     1 | -1.529407063 |    0.3390908 | 1.501196e-03 |\n",
              "| cardio | 13 | 70000 | 4.997000e-01 | 5.000035e-01 |     0.0 | 4.996250e-01 |     0.0000 |     0 |     1 |     1 |  0.001199975 |   -2.0000271 | 1.889836e-03 |\n",
              "\n"
            ],
            "text/plain": [
              "            vars n     mean         sd           median  trimmed     \n",
              "id           1   70000 4.997242e+04 2.885130e+04 50001.5 4.997651e+04\n",
              "age          2   70000 1.946887e+04 2.467252e+03 19703.0 1.956932e+04\n",
              "gender       3   70000 1.349571e+00 4.768380e-01     1.0 1.311964e+00\n",
              "height       4   70000 1.643592e+02 8.210126e+00   165.0 1.643226e+02\n",
              "weight       5   70000 7.420569e+01 1.439576e+01    72.0 7.310963e+01\n",
              "ap_hi        6   70000 1.288173e+02 1.540114e+02   120.0 1.256049e+02\n",
              "ap_lo        7   70000 9.663041e+01 1.884725e+02    80.0 8.127688e+01\n",
              "cholesterol  8   70000 1.366871e+00 6.802503e-01     1.0 1.208589e+00\n",
              "gluc         9   70000 1.226457e+00 5.722703e-01     1.0 1.062875e+00\n",
              "smoke       10   70000 8.812857e-02 2.834838e-01     0.0 0.000000e+00\n",
              "alco        11   70000 5.377143e-02 2.255677e-01     0.0 0.000000e+00\n",
              "active      12   70000 8.037286e-01 3.971791e-01     1.0 8.796607e-01\n",
              "cardio      13   70000 4.997000e-01 5.000035e-01     0.0 4.996250e-01\n",
              "            mad        min   max   range skew         kurtosis     se          \n",
              "id          36981.9744     0 99999 99999 -0.001277758   -1.1984252 1.090477e+02\n",
              "age          2536.7286 10798 23713 12915 -0.307042236   -0.8235359 9.325335e+00\n",
              "gender          0.0000     1     2     1  0.630933011   -1.6019464 1.802278e-03\n",
              "height          7.4130    55   250   195 -0.642159930    7.9426868 3.103136e-02\n",
              "weight         11.8608    10   200   190  1.012026734    2.5863954 5.441085e-02\n",
              "ap_hi          14.8260  -150 16020 16170 85.292558338 7579.3165867 5.821084e-01\n",
              "ap_lo           1.4826   -70 11000 11070 32.112706530 1425.7718273 7.123592e-01\n",
              "cholesterol     0.0000     1     3     2  1.587055377    0.9936307 2.571105e-03\n",
              "gluc            0.0000     1     3     2  2.397359064    4.2937764 2.162978e-03\n",
              "smoke           0.0000     0     1     1  2.905742905    6.4434339 1.071468e-03\n",
              "alco            0.0000     0     1     1  3.956436933   13.6535883 8.525658e-04\n",
              "active          0.0000     0     1     1 -1.529407063    0.3390908 1.501196e-03\n",
              "cardio          0.0000     0     1     1  0.001199975   -2.0000271 1.889836e-03"
            ]
          },
          "metadata": {},
          "output_type": "display_data"
        }
      ],
      "source": [
        "describe(cardio)"
      ]
    },
    {
      "cell_type": "markdown",
      "metadata": {
        "id": "gTc20goD6DjH"
      },
      "source": [
        "The dataset contains 70,000 records of patient data. It includes a target variable \"cardio\" and 11 features that are objective basic health measurements, such as age, gender, height, weight etc. The result of the general desciptive analytics suggests that some data cleaning work is required so as to produce more accurate and more reliable analysis."
      ]
    },
    {
      "cell_type": "markdown",
      "metadata": {
        "id": "kdMJ8MrK6DjI"
      },
      "source": [
        "**Data Preparation**"
      ]
    },
    {
      "cell_type": "markdown",
      "metadata": {
        "id": "sjRjljuU6DjI"
      },
      "source": [
        "1.Remove the id column"
      ]
    },
    {
      "cell_type": "code",
      "execution_count": null,
      "metadata": {
        "id": "sxLsWxjz6DjI",
        "outputId": "a3685483-b724-420e-c0f8-d436c839b571"
      },
      "outputs": [
        {
          "data": {
            "text/html": [
              "<table class=\"dataframe\">\n",
              "<caption>A data.frame: 6 × 12</caption>\n",
              "<thead>\n",
              "\t<tr><th></th><th scope=col>age</th><th scope=col>gender</th><th scope=col>height</th><th scope=col>weight</th><th scope=col>ap_hi</th><th scope=col>ap_lo</th><th scope=col>cholesterol</th><th scope=col>gluc</th><th scope=col>smoke</th><th scope=col>alco</th><th scope=col>active</th><th scope=col>cardio</th></tr>\n",
              "\t<tr><th></th><th scope=col>&lt;int&gt;</th><th scope=col>&lt;int&gt;</th><th scope=col>&lt;int&gt;</th><th scope=col>&lt;dbl&gt;</th><th scope=col>&lt;int&gt;</th><th scope=col>&lt;int&gt;</th><th scope=col>&lt;int&gt;</th><th scope=col>&lt;int&gt;</th><th scope=col>&lt;int&gt;</th><th scope=col>&lt;int&gt;</th><th scope=col>&lt;int&gt;</th><th scope=col>&lt;int&gt;</th></tr>\n",
              "</thead>\n",
              "<tbody>\n",
              "\t<tr><th scope=row>1</th><td>18393</td><td>2</td><td>168</td><td>62</td><td>110</td><td> 80</td><td>1</td><td>1</td><td>0</td><td>0</td><td>1</td><td>0</td></tr>\n",
              "\t<tr><th scope=row>2</th><td>20228</td><td>1</td><td>156</td><td>85</td><td>140</td><td> 90</td><td>3</td><td>1</td><td>0</td><td>0</td><td>1</td><td>1</td></tr>\n",
              "\t<tr><th scope=row>3</th><td>18857</td><td>1</td><td>165</td><td>64</td><td>130</td><td> 70</td><td>3</td><td>1</td><td>0</td><td>0</td><td>0</td><td>1</td></tr>\n",
              "\t<tr><th scope=row>4</th><td>17623</td><td>2</td><td>169</td><td>82</td><td>150</td><td>100</td><td>1</td><td>1</td><td>0</td><td>0</td><td>1</td><td>1</td></tr>\n",
              "\t<tr><th scope=row>5</th><td>17474</td><td>1</td><td>156</td><td>56</td><td>100</td><td> 60</td><td>1</td><td>1</td><td>0</td><td>0</td><td>0</td><td>0</td></tr>\n",
              "\t<tr><th scope=row>6</th><td>21914</td><td>1</td><td>151</td><td>67</td><td>120</td><td> 80</td><td>2</td><td>2</td><td>0</td><td>0</td><td>0</td><td>0</td></tr>\n",
              "</tbody>\n",
              "</table>\n"
            ],
            "text/latex": [
              "A data.frame: 6 × 12\n",
              "\\begin{tabular}{r|llllllllllll}\n",
              "  & age & gender & height & weight & ap\\_hi & ap\\_lo & cholesterol & gluc & smoke & alco & active & cardio\\\\\n",
              "  & <int> & <int> & <int> & <dbl> & <int> & <int> & <int> & <int> & <int> & <int> & <int> & <int>\\\\\n",
              "\\hline\n",
              "\t1 & 18393 & 2 & 168 & 62 & 110 &  80 & 1 & 1 & 0 & 0 & 1 & 0\\\\\n",
              "\t2 & 20228 & 1 & 156 & 85 & 140 &  90 & 3 & 1 & 0 & 0 & 1 & 1\\\\\n",
              "\t3 & 18857 & 1 & 165 & 64 & 130 &  70 & 3 & 1 & 0 & 0 & 0 & 1\\\\\n",
              "\t4 & 17623 & 2 & 169 & 82 & 150 & 100 & 1 & 1 & 0 & 0 & 1 & 1\\\\\n",
              "\t5 & 17474 & 1 & 156 & 56 & 100 &  60 & 1 & 1 & 0 & 0 & 0 & 0\\\\\n",
              "\t6 & 21914 & 1 & 151 & 67 & 120 &  80 & 2 & 2 & 0 & 0 & 0 & 0\\\\\n",
              "\\end{tabular}\n"
            ],
            "text/markdown": [
              "\n",
              "A data.frame: 6 × 12\n",
              "\n",
              "| <!--/--> | age &lt;int&gt; | gender &lt;int&gt; | height &lt;int&gt; | weight &lt;dbl&gt; | ap_hi &lt;int&gt; | ap_lo &lt;int&gt; | cholesterol &lt;int&gt; | gluc &lt;int&gt; | smoke &lt;int&gt; | alco &lt;int&gt; | active &lt;int&gt; | cardio &lt;int&gt; |\n",
              "|---|---|---|---|---|---|---|---|---|---|---|---|---|\n",
              "| 1 | 18393 | 2 | 168 | 62 | 110 |  80 | 1 | 1 | 0 | 0 | 1 | 0 |\n",
              "| 2 | 20228 | 1 | 156 | 85 | 140 |  90 | 3 | 1 | 0 | 0 | 1 | 1 |\n",
              "| 3 | 18857 | 1 | 165 | 64 | 130 |  70 | 3 | 1 | 0 | 0 | 0 | 1 |\n",
              "| 4 | 17623 | 2 | 169 | 82 | 150 | 100 | 1 | 1 | 0 | 0 | 1 | 1 |\n",
              "| 5 | 17474 | 1 | 156 | 56 | 100 |  60 | 1 | 1 | 0 | 0 | 0 | 0 |\n",
              "| 6 | 21914 | 1 | 151 | 67 | 120 |  80 | 2 | 2 | 0 | 0 | 0 | 0 |\n",
              "\n"
            ],
            "text/plain": [
              "  age   gender height weight ap_hi ap_lo cholesterol gluc smoke alco active\n",
              "1 18393 2      168    62     110    80   1           1    0     0    1     \n",
              "2 20228 1      156    85     140    90   3           1    0     0    1     \n",
              "3 18857 1      165    64     130    70   3           1    0     0    0     \n",
              "4 17623 2      169    82     150   100   1           1    0     0    1     \n",
              "5 17474 1      156    56     100    60   1           1    0     0    0     \n",
              "6 21914 1      151    67     120    80   2           2    0     0    0     \n",
              "  cardio\n",
              "1 0     \n",
              "2 1     \n",
              "3 1     \n",
              "4 1     \n",
              "5 0     \n",
              "6 0     "
            ]
          },
          "metadata": {},
          "output_type": "display_data"
        }
      ],
      "source": [
        "cardio1 <- cardio[, 2:13]\n",
        "head(cardio1)"
      ]
    },
    {
      "cell_type": "markdown",
      "metadata": {
        "id": "ARJeSYC56DjJ"
      },
      "source": [
        "2.Remove the rows with systolic blood pressure lower than diastolic blood pressure i.e. ap_hi < ap_lo"
      ]
    },
    {
      "cell_type": "code",
      "execution_count": null,
      "metadata": {
        "id": "Ys3PBiJq6DjJ"
      },
      "outputs": [],
      "source": [
        "ap_cleaned <- cardio1 %>% filter(cardio1$ap_hi > cardio1$ap_lo)"
      ]
    },
    {
      "cell_type": "markdown",
      "metadata": {
        "id": "7bOG9vQG6DjJ"
      },
      "source": [
        "3.Remove the anomalies\n",
        "\n",
        "Anomalies and entries with unreasonable values are removed from the original dataset: extreme weight and height values, as well as extreme diastolic and systolic blood pressure values"
      ]
    },
    {
      "cell_type": "code",
      "execution_count": null,
      "metadata": {
        "id": "O9smNry46DjK",
        "outputId": "5eca3bdb-330d-4d99-b311-f84521f0fd97"
      },
      "outputs": [
        {
          "data": {
            "text/html": [
              "<table class=\"dataframe\">\n",
              "<caption>A data.frame: 6 × 12</caption>\n",
              "<thead>\n",
              "\t<tr><th></th><th scope=col>age</th><th scope=col>gender</th><th scope=col>height</th><th scope=col>weight</th><th scope=col>ap_hi</th><th scope=col>ap_lo</th><th scope=col>cholesterol</th><th scope=col>gluc</th><th scope=col>smoke</th><th scope=col>alco</th><th scope=col>active</th><th scope=col>cardio</th></tr>\n",
              "\t<tr><th></th><th scope=col>&lt;int&gt;</th><th scope=col>&lt;int&gt;</th><th scope=col>&lt;int&gt;</th><th scope=col>&lt;dbl&gt;</th><th scope=col>&lt;int&gt;</th><th scope=col>&lt;int&gt;</th><th scope=col>&lt;int&gt;</th><th scope=col>&lt;int&gt;</th><th scope=col>&lt;int&gt;</th><th scope=col>&lt;int&gt;</th><th scope=col>&lt;int&gt;</th><th scope=col>&lt;int&gt;</th></tr>\n",
              "</thead>\n",
              "<tbody>\n",
              "\t<tr><th scope=row>1</th><td>18393</td><td>2</td><td>168</td><td>62</td><td>110</td><td> 80</td><td>1</td><td>1</td><td>0</td><td>0</td><td>1</td><td>0</td></tr>\n",
              "\t<tr><th scope=row>2</th><td>20228</td><td>1</td><td>156</td><td>85</td><td>140</td><td> 90</td><td>3</td><td>1</td><td>0</td><td>0</td><td>1</td><td>1</td></tr>\n",
              "\t<tr><th scope=row>3</th><td>18857</td><td>1</td><td>165</td><td>64</td><td>130</td><td> 70</td><td>3</td><td>1</td><td>0</td><td>0</td><td>0</td><td>1</td></tr>\n",
              "\t<tr><th scope=row>4</th><td>17623</td><td>2</td><td>169</td><td>82</td><td>150</td><td>100</td><td>1</td><td>1</td><td>0</td><td>0</td><td>1</td><td>1</td></tr>\n",
              "\t<tr><th scope=row>5</th><td>17474</td><td>1</td><td>156</td><td>56</td><td>100</td><td> 60</td><td>1</td><td>1</td><td>0</td><td>0</td><td>0</td><td>0</td></tr>\n",
              "\t<tr><th scope=row>6</th><td>21914</td><td>1</td><td>151</td><td>67</td><td>120</td><td> 80</td><td>2</td><td>2</td><td>0</td><td>0</td><td>0</td><td>0</td></tr>\n",
              "</tbody>\n",
              "</table>\n"
            ],
            "text/latex": [
              "A data.frame: 6 × 12\n",
              "\\begin{tabular}{r|llllllllllll}\n",
              "  & age & gender & height & weight & ap\\_hi & ap\\_lo & cholesterol & gluc & smoke & alco & active & cardio\\\\\n",
              "  & <int> & <int> & <int> & <dbl> & <int> & <int> & <int> & <int> & <int> & <int> & <int> & <int>\\\\\n",
              "\\hline\n",
              "\t1 & 18393 & 2 & 168 & 62 & 110 &  80 & 1 & 1 & 0 & 0 & 1 & 0\\\\\n",
              "\t2 & 20228 & 1 & 156 & 85 & 140 &  90 & 3 & 1 & 0 & 0 & 1 & 1\\\\\n",
              "\t3 & 18857 & 1 & 165 & 64 & 130 &  70 & 3 & 1 & 0 & 0 & 0 & 1\\\\\n",
              "\t4 & 17623 & 2 & 169 & 82 & 150 & 100 & 1 & 1 & 0 & 0 & 1 & 1\\\\\n",
              "\t5 & 17474 & 1 & 156 & 56 & 100 &  60 & 1 & 1 & 0 & 0 & 0 & 0\\\\\n",
              "\t6 & 21914 & 1 & 151 & 67 & 120 &  80 & 2 & 2 & 0 & 0 & 0 & 0\\\\\n",
              "\\end{tabular}\n"
            ],
            "text/markdown": [
              "\n",
              "A data.frame: 6 × 12\n",
              "\n",
              "| <!--/--> | age &lt;int&gt; | gender &lt;int&gt; | height &lt;int&gt; | weight &lt;dbl&gt; | ap_hi &lt;int&gt; | ap_lo &lt;int&gt; | cholesterol &lt;int&gt; | gluc &lt;int&gt; | smoke &lt;int&gt; | alco &lt;int&gt; | active &lt;int&gt; | cardio &lt;int&gt; |\n",
              "|---|---|---|---|---|---|---|---|---|---|---|---|---|\n",
              "| 1 | 18393 | 2 | 168 | 62 | 110 |  80 | 1 | 1 | 0 | 0 | 1 | 0 |\n",
              "| 2 | 20228 | 1 | 156 | 85 | 140 |  90 | 3 | 1 | 0 | 0 | 1 | 1 |\n",
              "| 3 | 18857 | 1 | 165 | 64 | 130 |  70 | 3 | 1 | 0 | 0 | 0 | 1 |\n",
              "| 4 | 17623 | 2 | 169 | 82 | 150 | 100 | 1 | 1 | 0 | 0 | 1 | 1 |\n",
              "| 5 | 17474 | 1 | 156 | 56 | 100 |  60 | 1 | 1 | 0 | 0 | 0 | 0 |\n",
              "| 6 | 21914 | 1 | 151 | 67 | 120 |  80 | 2 | 2 | 0 | 0 | 0 | 0 |\n",
              "\n"
            ],
            "text/plain": [
              "  age   gender height weight ap_hi ap_lo cholesterol gluc smoke alco active\n",
              "1 18393 2      168    62     110    80   1           1    0     0    1     \n",
              "2 20228 1      156    85     140    90   3           1    0     0    1     \n",
              "3 18857 1      165    64     130    70   3           1    0     0    0     \n",
              "4 17623 2      169    82     150   100   1           1    0     0    1     \n",
              "5 17474 1      156    56     100    60   1           1    0     0    0     \n",
              "6 21914 1      151    67     120    80   2           2    0     0    0     \n",
              "  cardio\n",
              "1 0     \n",
              "2 1     \n",
              "3 1     \n",
              "4 1     \n",
              "5 0     \n",
              "6 0     "
            ]
          },
          "metadata": {},
          "output_type": "display_data"
        },
        {
          "data": {
            "text/plain": [
              "      age            gender          height          weight      \n",
              " Min.   :10798   Min.   :1.000   Min.   :140.0   Min.   : 30.00  \n",
              " 1st Qu.:17658   1st Qu.:1.000   1st Qu.:159.0   1st Qu.: 65.00  \n",
              " Median :19701   Median :1.000   Median :165.0   Median : 72.00  \n",
              " Mean   :19465   Mean   :1.349   Mean   :164.5   Mean   : 74.12  \n",
              " 3rd Qu.:21324   3rd Qu.:2.000   3rd Qu.:170.0   3rd Qu.: 82.00  \n",
              " Max.   :23713   Max.   :2.000   Max.   :207.0   Max.   :200.00  \n",
              "     ap_hi           ap_lo        cholesterol         gluc      \n",
              " Min.   : 70.0   Min.   : 30.0   Min.   :1.000   Min.   :1.000  \n",
              " 1st Qu.:120.0   1st Qu.: 80.0   1st Qu.:1.000   1st Qu.:1.000  \n",
              " Median :120.0   Median : 80.0   Median :1.000   Median :1.000  \n",
              " Mean   :126.7   Mean   : 81.3   Mean   :1.365   Mean   :1.226  \n",
              " 3rd Qu.:140.0   3rd Qu.: 90.0   3rd Qu.:2.000   3rd Qu.:1.000  \n",
              " Max.   :240.0   Max.   :170.0   Max.   :3.000   Max.   :3.000  \n",
              "     smoke              alco             active           cardio      \n",
              " Min.   :0.00000   Min.   :0.00000   Min.   :0.0000   Min.   :0.0000  \n",
              " 1st Qu.:0.00000   1st Qu.:0.00000   1st Qu.:1.0000   1st Qu.:0.0000  \n",
              " Median :0.00000   Median :0.00000   Median :1.0000   Median :0.0000  \n",
              " Mean   :0.08802   Mean   :0.05339   Mean   :0.8035   Mean   :0.4948  \n",
              " 3rd Qu.:0.00000   3rd Qu.:0.00000   3rd Qu.:1.0000   3rd Qu.:1.0000  \n",
              " Max.   :1.00000   Max.   :1.00000   Max.   :1.0000   Max.   :1.0000  "
            ]
          },
          "metadata": {},
          "output_type": "display_data"
        }
      ],
      "source": [
        "height_cleaned <- ap_cleaned %>% filter(ap_cleaned$height >= 140 & ap_cleaned$height <= 220)\n",
        "weight_cleaned <- height_cleaned %>% filter(height_cleaned$weight >= 30)\n",
        "ap_cleaned2 <- weight_cleaned %>% filter(weight_cleaned$ap_lo >= 30 & weight_cleaned$ap_lo <= 170)\n",
        "cleaned_cardio <- ap_cleaned2 %>% filter(ap_cleaned2$ap_hi >= 70 & ap_cleaned2$ap_hi < 250)\n",
        "\n",
        "head(cleaned_cardio)\n",
        "summary(cleaned_cardio)"
      ]
    },
    {
      "cell_type": "markdown",
      "metadata": {
        "id": "CoO4TA3b6DjK"
      },
      "source": [
        "4.Make categorical variables\n",
        "\n",
        "Some categorical variables such as \"cardio\", \"active\", \"alcohol\" are treated as continuous variables in the original dataset. Thus, we need to make these variables categorical."
      ]
    },
    {
      "cell_type": "code",
      "execution_count": null,
      "metadata": {
        "id": "qIkMIP9a6DjK",
        "outputId": "683558db-fb05-43b7-ec6a-0cbbbb04c31b"
      },
      "outputs": [
        {
          "data": {
            "image/png": "[encoded data removed]",
            "text/plain": [
              "plot without title"
            ]
          },
          "metadata": {
            "image/png": {
              "height": 420,
              "width": 420
            }
          },
          "output_type": "display_data"
        }
      ],
      "source": [
        "plot(factor(cardio$cardio) ,col = \"light blue\", xlab = 'Cardio' , ylab = 'No of observation')\n",
        "yes_indices = which(cardio$cardio == 1)\n",
        "no_indices = which(cardio$cardio == 0)"
      ]
    },
    {
      "cell_type": "code",
      "execution_count": null,
      "metadata": {
        "id": "HXzSHag56DjK",
        "outputId": "fe5b1feb-214a-4f09-831e-9bd547478d71"
      },
      "outputs": [
        {
          "data": {
            "text/plain": [
              "      age        gender        height          weight           ap_hi      \n",
              " Min.   :10798   1:44626   Min.   :140.0   Min.   : 30.00   Min.   : 70.0  \n",
              " 1st Qu.:17658   2:23895   1st Qu.:159.0   1st Qu.: 65.00   1st Qu.:120.0  \n",
              " Median :19701             Median :165.0   Median : 72.00   Median :120.0  \n",
              " Mean   :19465             Mean   :164.5   Mean   : 74.12   Mean   :126.7  \n",
              " 3rd Qu.:21324             3rd Qu.:170.0   3rd Qu.: 82.00   3rd Qu.:140.0  \n",
              " Max.   :23713             Max.   :207.0   Max.   :200.00   Max.   :240.0  \n",
              "     ap_lo       cholesterol gluc      smoke     alco      active    cardio   \n",
              " Min.   : 30.0   1:51379     1:58258   0:62490   0:64863   0:13466   0:34619  \n",
              " 1st Qu.: 80.0   2: 9283     2: 5057   1: 6031   1: 3658   1:55055   1:33902  \n",
              " Median : 80.0   3: 7859     3: 5206                                          \n",
              " Mean   : 81.3                                                                \n",
              " 3rd Qu.: 90.0                                                                \n",
              " Max.   :170.0                                                                "
            ]
          },
          "metadata": {},
          "output_type": "display_data"
        }
      ],
      "source": [
        "cols = c(\"gender\", \"cholesterol\", \"gluc\", \"smoke\", \"alco\", \"active\", \"cardio\")\n",
        "cleaned_cardio[cols] = lapply(cleaned_cardio[cols], factor)\n",
        "summary(cleaned_cardio)"
      ]
    },
    {
      "cell_type": "markdown",
      "metadata": {
        "id": "Nc7UiMgJ6DjK"
      },
      "source": [
        "5.Split the data\n",
        "\n",
        "For the feasibility and accuracy of analysis, we select 10000 records out of the cleaned dataset using simple random sampling and split the data into the training set, validation set and test set according to the 70:15:15 partition. The training set is to fit the model; the validation set is to fine-tune the model hyperparameters and combat overfitting; the test set is to evaluate the model performances based on some indicators, such as accuracy and precision."
      ]
    },
    {
      "cell_type": "code",
      "execution_count": null,
      "metadata": {
        "id": "Alen7ZnH6DjL"
      },
      "outputs": [],
      "source": [
        "set.seed(1)\n",
        "data <- sample_n(cleaned_cardio, 10000)\n",
        "idx <- sample(seq(1, 3), size = nrow(data), replace = TRUE, prob = c(.7, .15, .15))\n",
        "train <- data[idx == 1,]\n",
        "test <- data[idx == 2,]\n",
        "valid <- data[idx == 3,]"
      ]
    },
    {
      "cell_type": "code",
      "execution_count": null,
      "metadata": {
        "id": "R-AJOhin6DjL"
      },
      "outputs": [],
      "source": [
        "cols = c(\"gender\", \"cholesterol\", \"gluc\", \"smoke\", \"alco\", \"active\", \"cardio\")\n",
        "train[cols] = lapply(train[cols], factor)\n",
        "test[cols] = lapply(test[cols], factor)\n",
        "valid[cols] = lapply(valid[cols], factor)"
      ]
    },
    {
      "cell_type": "markdown",
      "metadata": {
        "id": "gu2INeFS6DjL"
      },
      "source": [
        "**Exploratory Data Analytics on the Training Data**"
      ]
    },
    {
      "cell_type": "markdown",
      "metadata": {
        "id": "l76oMQt76DjL"
      },
      "source": [
        "1.Summary statistics"
      ]
    },
    {
      "cell_type": "code",
      "execution_count": null,
      "metadata": {
        "id": "sr9bhx5X6DjL",
        "outputId": "1bf0c7e8-1aa7-404b-8d4f-7891def65198"
      },
      "outputs": [
        {
          "data": {
            "text/plain": [
              "      age        gender       height          weight           ap_hi      \n",
              " Min.   :10964   1:4527   Min.   :140.0   Min.   : 30.00   Min.   : 80.0  \n",
              " 1st Qu.:17720   2:2454   1st Qu.:159.0   1st Qu.: 65.00   1st Qu.:120.0  \n",
              " Median :19703            Median :165.0   Median : 72.00   Median :120.0  \n",
              " Mean   :19487            Mean   :164.5   Mean   : 74.23   Mean   :126.7  \n",
              " 3rd Qu.:21346            3rd Qu.:170.0   3rd Qu.: 82.00   3rd Qu.:140.0  \n",
              " Max.   :23677            Max.   :198.0   Max.   :183.00   Max.   :240.0  \n",
              "     ap_lo        cholesterol gluc     smoke    alco     active   cardio  \n",
              " Min.   : 45.00   1:5272      1:5916   0:6341   0:6572   0:1359   0:3506  \n",
              " 1st Qu.: 80.00   2: 947      2: 532   1: 640   1: 409   1:5622   1:3475  \n",
              " Median : 80.00   3: 762      3: 533                                      \n",
              " Mean   : 81.32                                                           \n",
              " 3rd Qu.: 90.00                                                           \n",
              " Max.   :130.00                                                           "
            ]
          },
          "metadata": {},
          "output_type": "display_data"
        }
      ],
      "source": [
        "summary(train)"
      ]
    },
    {
      "cell_type": "markdown",
      "metadata": {
        "id": "advfg04t6DjL"
      },
      "source": [
        "4524 observations are females (gender = 1) and 2489 are males (gender = 2). There is a significant difference in the number of observations between gender. Thus, the data may be slightly biased due to the unequal distribution of gender.\n",
        "\n",
        "3442 observations are not having cardiovascular diseases and the other 3491 observations suffer from cardiovascular diseases. The approximate ratio is 1:1 which suggests that the dependent variable “cardio” is distributed evenly, and accuracy is thus a reliable method to evaluate how a model performs."
      ]
    },
    {
      "cell_type": "markdown",
      "metadata": {
        "id": "Krj88XZZ6DjM"
      },
      "source": [
        "3.Scatter plots and correlation plot\n",
        "\n",
        "Scatter plots and correlation plots can visualise and roughly identify the possible correlation between any two continuous variables."
      ]
    },
    {
      "cell_type": "code",
      "execution_count": null,
      "metadata": {
        "scrolled": false,
        "id": "Sjjm2Pi-6DjM",
        "outputId": "03e9f20c-67b3-480b-affd-26e7dac0df78"
      },
      "outputs": [
        {
          "data": {
            "text/html": [
              "<table class=\"dataframe\">\n",
              "<caption>A matrix: 5 × 5 of type dbl</caption>\n",
              "<thead>\n",
              "\t<tr><th></th><th scope=col>age</th><th scope=col>height</th><th scope=col>weight</th><th scope=col>ap_hi</th><th scope=col>ap_lo</th></tr>\n",
              "</thead>\n",
              "<tbody>\n",
              "\t<tr><th scope=row>age</th><td> 1.00000000</td><td>-0.08950103</td><td>0.07012436</td><td>0.20752037</td><td>0.1546900</td></tr>\n",
              "\t<tr><th scope=row>height</th><td>-0.08950103</td><td> 1.00000000</td><td>0.33020670</td><td>0.02785009</td><td>0.0458291</td></tr>\n",
              "\t<tr><th scope=row>weight</th><td> 0.07012436</td><td> 0.33020670</td><td>1.00000000</td><td>0.27861867</td><td>0.2649363</td></tr>\n",
              "\t<tr><th scope=row>ap_hi</th><td> 0.20752037</td><td> 0.02785009</td><td>0.27861867</td><td>1.00000000</td><td>0.7403429</td></tr>\n",
              "\t<tr><th scope=row>ap_lo</th><td> 0.15468999</td><td> 0.04582910</td><td>0.26493630</td><td>0.74034288</td><td>1.0000000</td></tr>\n",
              "</tbody>\n",
              "</table>\n"
            ],
            "text/latex": [
              "A matrix: 5 × 5 of type dbl\n",
              "\\begin{tabular}{r|lllll}\n",
              "  & age & height & weight & ap\\_hi & ap\\_lo\\\\\n",
              "\\hline\n",
              "\tage &  1.00000000 & -0.08950103 & 0.07012436 & 0.20752037 & 0.1546900\\\\\n",
              "\theight & -0.08950103 &  1.00000000 & 0.33020670 & 0.02785009 & 0.0458291\\\\\n",
              "\tweight &  0.07012436 &  0.33020670 & 1.00000000 & 0.27861867 & 0.2649363\\\\\n",
              "\tap\\_hi &  0.20752037 &  0.02785009 & 0.27861867 & 1.00000000 & 0.7403429\\\\\n",
              "\tap\\_lo &  0.15468999 &  0.04582910 & 0.26493630 & 0.74034288 & 1.0000000\\\\\n",
              "\\end{tabular}\n"
            ],
            "text/markdown": [
              "\n",
              "A matrix: 5 × 5 of type dbl\n",
              "\n",
              "| <!--/--> | age | height | weight | ap_hi | ap_lo |\n",
              "|---|---|---|---|---|---|\n",
              "| age |  1.00000000 | -0.08950103 | 0.07012436 | 0.20752037 | 0.1546900 |\n",
              "| height | -0.08950103 |  1.00000000 | 0.33020670 | 0.02785009 | 0.0458291 |\n",
              "| weight |  0.07012436 |  0.33020670 | 1.00000000 | 0.27861867 | 0.2649363 |\n",
              "| ap_hi |  0.20752037 |  0.02785009 | 0.27861867 | 1.00000000 | 0.7403429 |\n",
              "| ap_lo |  0.15468999 |  0.04582910 | 0.26493630 | 0.74034288 | 1.0000000 |\n",
              "\n"
            ],
            "text/plain": [
              "       age         height      weight     ap_hi      ap_lo    \n",
              "age     1.00000000 -0.08950103 0.07012436 0.20752037 0.1546900\n",
              "height -0.08950103  1.00000000 0.33020670 0.02785009 0.0458291\n",
              "weight  0.07012436  0.33020670 1.00000000 0.27861867 0.2649363\n",
              "ap_hi   0.20752037  0.02785009 0.27861867 1.00000000 0.7403429\n",
              "ap_lo   0.15468999  0.04582910 0.26493630 0.74034288 1.0000000"
            ]
          },
          "metadata": {},
          "output_type": "display_data"
        },
        {
          "data": {
            "image/png": "[encoded data removed]",
            "text/plain": [
              "Plot with title “”"
            ]
          },
          "metadata": {
            "image/png": {
              "height": 420,
              "width": 420
            }
          },
          "output_type": "display_data"
        }
      ],
      "source": [
        "train.corr <- cor(train[, c(1, 3, 4, 5, 6)])\n",
        "train.corr\n",
        "corrplot(train.corr, method = \"circle\")"
      ]
    },
    {
      "cell_type": "markdown",
      "metadata": {
        "id": "Y9uSHgFZ6DjM"
      },
      "source": [
        "From the above graphs, there are correlations between two pairs of continuous variables: ap_hi and ap_low, height and weight. The rest have very low correlation coefficient."
      ]
    },
    {
      "cell_type": "markdown",
      "metadata": {
        "id": "rqHCn9Fo6DjM"
      },
      "source": [
        "### Hypothesis Testing"
      ]
    },
    {
      "cell_type": "markdown",
      "metadata": {
        "id": "8himMN5m6DjM"
      },
      "source": [
        "**Hypothesis 1:** Do people with different cholesterol levels have different values of mean weight? Are cholesterol and weight correlated?"
      ]
    },
    {
      "cell_type": "code",
      "execution_count": null,
      "metadata": {
        "id": "wD_h9C-w6DjM",
        "outputId": "d4a42983-d2b3-466f-d441-ac01f9d692a3"
      },
      "outputs": [
        {
          "data": {
            "text/plain": [
              "\n",
              "\tOne-way analysis of means\n",
              "\n",
              "data:  train$weight and train$cholesterol\n",
              "F = 59.601, num df = 2, denom df = 6978, p-value < 2.2e-16\n"
            ]
          },
          "metadata": {},
          "output_type": "display_data"
        },
        {
          "data": {
            "image/png": "[encoded data removed]",
            "text/plain": [
              "plot without title"
            ]
          },
          "metadata": {
            "image/png": {
              "height": 420,
              "width": 420
            }
          },
          "output_type": "display_data"
        }
      ],
      "source": [
        "oneway.test(train$weight~train$cholesterol, var.equal = TRUE)\n",
        "boxplot(train$weight~train$cholesterol)"
      ]
    },
    {
      "cell_type": "markdown",
      "metadata": {
        "id": "rdbggZiq6DjN"
      },
      "source": [
        "The null hypothesis is that the mean weight for people having different cholesterol levels is the same. Since the p-value is < 2.2e-16, which is smaller than 0.05. We reject the null hypothesis and conclude that there is a difference in the mean weight among people with various cholesterol levels. Also, from the box plots, we can see that median, upper and lower quartile all increase as cholesterol level rises from 1 (normal) to 3 (well above normal). This implies that independent variables of cholesterol and weight are positively correlated."
      ]
    },
    {
      "cell_type": "markdown",
      "metadata": {
        "id": "4mo7h1Wv6DjN"
      },
      "source": [
        "**Hypothesis 2:** Is there a correlation between independent variables height and weight?"
      ]
    },
    {
      "cell_type": "code",
      "execution_count": null,
      "metadata": {
        "id": "nPXaoK7K6DjN",
        "outputId": "791ded23-74a0-4f53-bdfe-e69f3c629091"
      },
      "outputs": [
        {
          "data": {
            "text/plain": [
              "Call:corr.test(x = train$height, y = train$weight)\n",
              "Correlation matrix \n",
              "[1] 0.33\n",
              "Sample Size \n",
              "[1] 6981\n",
              "These are the unadjusted probability values.\n",
              "  The probability values  adjusted for multiple tests are in the p.adj object. \n",
              "[1] 0\n",
              "\n",
              " To see confidence intervals of the correlations, print with the short=FALSE option"
            ]
          },
          "metadata": {},
          "output_type": "display_data"
        }
      ],
      "source": [
        "corr.test(train$height, train$weight)"
      ]
    },
    {
      "cell_type": "markdown",
      "metadata": {
        "id": "0ay3vbGc6DjN"
      },
      "source": [
        "The correlation coefficient between height and weight is 0.31. Hence, the two variables are\n",
        "moderately correlated. We decide to include a new independent variable Body Mass Index\n",
        "2 (BMI) to substitute independent variables height and weight, where BMI = weight/(height^2)."
      ]
    },
    {
      "cell_type": "markdown",
      "metadata": {
        "id": "oN94MqU96DjN"
      },
      "source": [
        "**Hypothesis 3:** Are systolic blood pressure (ap_high) and diastolic blood pressure (ap_low) correlated?"
      ]
    },
    {
      "cell_type": "code",
      "execution_count": null,
      "metadata": {
        "id": "ILkwmPB46DjN",
        "outputId": "f3a6a84b-427a-4335-a4a7-188c4f33dcbb"
      },
      "outputs": [
        {
          "data": {
            "text/plain": [
              "Call:corr.test(x = train$ap_hi, y = train$ap_lo)\n",
              "Correlation matrix \n",
              "[1] 0.74\n",
              "Sample Size \n",
              "[1] 6981\n",
              "These are the unadjusted probability values.\n",
              "  The probability values  adjusted for multiple tests are in the p.adj object. \n",
              "[1] 0\n",
              "\n",
              " To see confidence intervals of the correlations, print with the short=FALSE option"
            ]
          },
          "metadata": {},
          "output_type": "display_data"
        }
      ],
      "source": [
        "corr.test(train$ap_hi, train$ap_lo)"
      ]
    },
    {
      "cell_type": "markdown",
      "metadata": {
        "id": "f6sRVHlc6DjN"
      },
      "source": [
        "By applying the correlation test, the correlation coefficient between systolic blood pressure (ap_hi) and diastolic blood pressure (ap_lo) is 0.74, indicating a strong correlation between these two variables. Thus, interaction term ap_hi * ap_lo should be included in the model."
      ]
    },
    {
      "cell_type": "markdown",
      "metadata": {
        "id": "wSJqEayl6DjN"
      },
      "source": [
        "**Hypothesis 4:** Is gender independent of someone’s smoking habit?"
      ]
    },
    {
      "cell_type": "code",
      "execution_count": null,
      "metadata": {
        "scrolled": true,
        "id": "51rEQ-jm6DjO",
        "outputId": "13e43727-37a9-44a7-9932-6ed14dc90534"
      },
      "outputs": [
        {
          "name": "stdout",
          "output_type": "stream",
          "text": [
            "   \n",
            "       0    1\n",
            "  1 4442   85\n",
            "  2 1899  555\n"
          ]
        },
        {
          "data": {
            "image/png": "[encoded data removed]",
            "text/plain": [
              "Plot with title “Count v/s Smoke By Gender”"
            ]
          },
          "metadata": {
            "image/png": {
              "height": 420,
              "width": 420
            }
          },
          "output_type": "display_data"
        }
      ],
      "source": [
        "my_table<-table(train$gender, train$smoke)\n",
        "print(my_table)\n",
        "barplot(my_table,main='Count v/s Smoke By Gender', col=c('red','blue'),names.arg=c(0,1), beside=T,legend=c('F','M'))"
      ]
    },
    {
      "cell_type": "code",
      "execution_count": null,
      "metadata": {
        "id": "pDQIFiud6DjO",
        "outputId": "cab61e92-7539-4980-e2ff-a7e4ded2996e"
      },
      "outputs": [
        {
          "data": {
            "text/plain": [
              "\n",
              "\tPearson's Chi-squared test\n",
              "\n",
              "data:  train$gender and train$smoke\n",
              "X-squared = 821.9, df = 1, p-value < 2.2e-16\n"
            ]
          },
          "metadata": {},
          "output_type": "display_data"
        }
      ],
      "source": [
        "chisq.test(train$gender, train$smoke, correct=FALSE)"
      ]
    },
    {
      "cell_type": "markdown",
      "metadata": {
        "id": "LbGUlChc6DjT"
      },
      "source": [
        "By conducting a Chi-Square test with a contingency table, the above result is obtained. The null hypothesis for the Chi-Square test is that the variables are independent of one another while the alternative hypothesis is that they are correlated in some way. The p-value is less than 2.2e-16, which is smaller than 0.05. There is sufficient evidence at 5% significance level to reject the null hypothesis and conclude that there is a correlation between gender and smoke."
      ]
    },
    {
      "cell_type": "markdown",
      "metadata": {
        "id": "Dy_8VA6-6DjT"
      },
      "source": [
        "**Variable Transformation and Selection**\n",
        "\n",
        "1.Transform age in days to age in years[](http://)"
      ]
    },
    {
      "cell_type": "code",
      "execution_count": null,
      "metadata": {
        "id": "NVaDczUC6DjT"
      },
      "outputs": [],
      "source": [
        "train$age_y <- NA\n",
        "train$age_y <- train$age / 365\n",
        "\n",
        "test$age_y <- NA\n",
        "test$age_y <- test$age / 365\n",
        "\n",
        "valid$age_y <- NA\n",
        "valid$age_y <- valid$age / 365"
      ]
    },
    {
      "cell_type": "markdown",
      "metadata": {
        "id": "EhOMdIW06DjW"
      },
      "source": [
        "2.Introduce a new term BMI to replace variables weight and height"
      ]
    },
    {
      "cell_type": "code",
      "execution_count": null,
      "metadata": {
        "id": "txRBuOfY6DjW"
      },
      "outputs": [],
      "source": [
        "train$BMI <- NA\n",
        "train$BMI <- (train$weight/ ((train$height/100)^2))\n",
        "\n",
        "test$BMI <- NA\n",
        "test$BMI <- (test$weight/ ((test$height/100)^2))\n",
        "\n",
        "valid$BMI <- NA\n",
        "valid$BMI <- (valid$weight/ ((valid$height/100)^2))"
      ]
    },
    {
      "cell_type": "markdown",
      "metadata": {
        "id": "t8U83HBg6DjX"
      },
      "source": [
        "3.Include interaction terms\n",
        "\n",
        "* Gender and smoke are correlated. Thus, an interaction term gender * smoke should be included.\n",
        "* Systolic blood pressure and diastolic blood pressureare are strongly correlated. Hence, an interaction term ap_lo * ap_high should be included.\n",
        "* Cholesterol and weight are correlated. Therefore, an interaction term cholesterol * BMI should be included."
      ]
    },
    {
      "cell_type": "markdown",
      "metadata": {
        "id": "wP9Yxk4Y6DjX"
      },
      "source": [
        "4.Model selection using backwards stepwise selection\n",
        "\n",
        "Subsequently, backwards stepwise selection is done to select variables which give the best performing model. Backward stepwise regression starts with a full model with all the independent variables included. At each step, it eliminates the worst-performing predictor until all the regressors left perform well. The worst-performing predictor to be removed in each step is determined by comparing pairwise with all models with one variable removed using F-test results. The outcome of the variable selection is shown below."
      ]
    },
    {
      "cell_type": "code",
      "execution_count": null,
      "metadata": {
        "id": "zCORPrwo6DjX",
        "outputId": "42938dc7-9ff6-47bd-be24-b3a09d6f8aee"
      },
      "outputs": [
        {
          "name": "stdout",
          "output_type": "stream",
          "text": [
            "Start:  AIC=7877.74\n",
            "cardio ~ age_y + gender + BMI + ap_hi + ap_lo + cholesterol + \n",
            "    gluc + smoke + alco + active + (ap_hi * ap_lo) + (gender * \n",
            "    smoke) + (cholesterol * BMI)\n",
            "\n",
            "                  Df Deviance    AIC\n",
            "- alco             1   7843.7 7875.7\n",
            "- gender:smoke     1   7843.8 7875.8\n",
            "- ap_hi:ap_lo      1   7844.0 7876.0\n",
            "<none>                 7843.7 7877.7\n",
            "- gluc             2   7848.2 7878.2\n",
            "- BMI:cholesterol  2   7850.3 7880.3\n",
            "- active           1   7851.2 7883.2\n",
            "- age_y            1   8012.6 8044.6\n",
            "\n",
            "Step:  AIC=7875.74\n",
            "cardio ~ age_y + gender + BMI + ap_hi + ap_lo + cholesterol + \n",
            "    gluc + smoke + active + ap_hi:ap_lo + gender:smoke + BMI:cholesterol\n",
            "\n",
            "                  Df Deviance    AIC\n",
            "- gender:smoke     1   7843.8 7873.8\n",
            "- ap_hi:ap_lo      1   7844.0 7874.0\n",
            "<none>                 7843.7 7875.7\n",
            "- gluc             2   7848.2 7876.2\n",
            "- BMI:cholesterol  2   7850.3 7878.3\n",
            "- active           1   7851.2 7881.2\n",
            "- age_y            1   8012.7 8042.7\n",
            "\n",
            "Step:  AIC=7873.76\n",
            "cardio ~ age_y + gender + BMI + ap_hi + ap_lo + cholesterol + \n",
            "    gluc + smoke + active + ap_hi:ap_lo + BMI:cholesterol\n",
            "\n",
            "                  Df Deviance    AIC\n",
            "- gender           1   7843.9 7871.9\n",
            "- ap_hi:ap_lo      1   7844.0 7872.0\n",
            "- smoke            1   7845.5 7873.5\n",
            "<none>                 7843.8 7873.8\n",
            "- gluc             2   7848.2 7874.2\n",
            "- BMI:cholesterol  2   7850.4 7876.4\n",
            "- active           1   7851.2 7879.2\n",
            "- age_y            1   8012.8 8040.8\n",
            "\n",
            "Step:  AIC=7871.88\n",
            "cardio ~ age_y + BMI + ap_hi + ap_lo + cholesterol + gluc + smoke + \n",
            "    active + ap_hi:ap_lo + BMI:cholesterol\n",
            "\n",
            "                  Df Deviance    AIC\n",
            "- ap_hi:ap_lo      1   7844.2 7870.2\n",
            "- smoke            1   7845.5 7871.5\n",
            "<none>                 7843.9 7871.9\n",
            "- gluc             2   7848.3 7872.3\n",
            "- BMI:cholesterol  2   7850.5 7874.5\n",
            "- active           1   7851.4 7877.4\n",
            "- age_y            1   8012.8 8038.8\n",
            "\n",
            "Step:  AIC=7870.17\n",
            "cardio ~ age_y + BMI + ap_hi + ap_lo + cholesterol + gluc + smoke + \n",
            "    active + BMI:cholesterol\n",
            "\n",
            "                  Df Deviance    AIC\n",
            "- smoke            1   7845.9 7869.9\n",
            "<none>                 7844.2 7870.2\n",
            "- gluc             2   7848.5 7870.5\n",
            "- BMI:cholesterol  2   7850.8 7872.8\n",
            "- active           1   7851.7 7875.7\n",
            "- ap_lo            1   7854.1 7878.1\n",
            "- age_y            1   8014.9 8038.9\n",
            "- ap_hi            1   8257.5 8281.5\n",
            "\n",
            "Step:  AIC=7869.86\n",
            "cardio ~ age_y + BMI + ap_hi + ap_lo + cholesterol + gluc + active + \n",
            "    BMI:cholesterol\n",
            "\n",
            "                  Df Deviance    AIC\n",
            "<none>                 7845.9 7869.9\n",
            "- gluc             2   7850.2 7870.2\n",
            "- BMI:cholesterol  2   7852.3 7872.3\n",
            "- active           1   7853.6 7875.6\n",
            "- ap_lo            1   7855.8 7877.8\n",
            "- age_y            1   8019.7 8041.7\n",
            "- ap_hi            1   8258.1 8280.1\n"
          ]
        },
        {
          "data": {
            "text/plain": [
              "\n",
              "Call:  glm(formula = cardio ~ age_y + BMI + ap_hi + ap_lo + cholesterol + \n",
              "    gluc + active + BMI:cholesterol, family = \"binomial\", data = train)\n",
              "\n",
              "Coefficients:\n",
              "     (Intercept)             age_y               BMI             ap_hi  \n",
              "       -11.76135           0.05508           0.02713           0.05490  \n",
              "           ap_lo      cholesterol2      cholesterol3             gluc2  \n",
              "         0.01469           0.97665           1.98664           0.10607  \n",
              "           gluc3           active1  BMI:cholesterol2  BMI:cholesterol3  \n",
              "        -0.21969          -0.19227          -0.02697          -0.03616  \n",
              "\n",
              "Degrees of Freedom: 6980 Total (i.e. Null);  6969 Residual\n",
              "Null Deviance:\t    9678 \n",
              "Residual Deviance: 7846 \tAIC: 7870"
            ]
          },
          "metadata": {},
          "output_type": "display_data"
        }
      ],
      "source": [
        "full_model <- glm(cardio~age_y + gender + BMI + ap_hi + ap_lo + cholesterol + gluc + smoke + alco + active + (ap_hi*ap_lo) + (gender*smoke) + (cholesterol * BMI), data = train, family = \"binomial\")\n",
        "step(full_model, direction=\"backward\")"
      ]
    },
    {
      "cell_type": "markdown",
      "metadata": {
        "id": "pk8Z5OZ46DjX"
      },
      "source": [
        "Therefore, the terms to be included in the final logistic regression model are age_y, gender, BMI, ap_hi, ap_lo, cholesterol, gluc, smoke, alco, active, ap_lo*ap_hi, gender*smoke."
      ]
    },
    {
      "cell_type": "markdown",
      "metadata": {
        "id": "A06AKyyx6DjX"
      },
      "source": [
        "**Models**\n",
        "\n",
        "**1. Logistic Regression Model**"
      ]
    },
    {
      "cell_type": "code",
      "execution_count": null,
      "metadata": {
        "scrolled": true,
        "id": "21baEOTK6DjX",
        "outputId": "404e9350-15ca-4432-d3c3-b0d1abda3bb0"
      },
      "outputs": [
        {
          "data": {
            "text/plain": [
              "\n",
              "Call:\n",
              "glm(formula = cardio ~ age_y + gender + BMI + ap_hi + ap_lo + \n",
              "    cholesterol + gluc + smoke + alco + active + (ap_hi * ap_lo) + \n",
              "    (gender * smoke), family = \"binomial\", data = train)\n",
              "\n",
              "Deviance Residuals: \n",
              "    Min       1Q   Median       3Q      Max  \n",
              "-3.5735  -0.9318  -0.2936   0.9300   2.5798  \n",
              "\n",
              "Coefficients:\n",
              "                 Estimate Std. Error z value Pr(>|z|)    \n",
              "(Intercept)    -1.259e+01  2.066e+00  -6.094  1.1e-09 ***\n",
              "age_y           5.444e-02  4.257e-03  12.789  < 2e-16 ***\n",
              "gender2         2.003e-02  6.290e-02   0.318 0.750164    \n",
              "BMI             1.857e-02  5.698e-03   3.259 0.001119 ** \n",
              "ap_hi           6.375e-02  1.654e-02   3.855 0.000116 ***\n",
              "ap_lo           2.750e-02  2.511e-02   1.095 0.273425    \n",
              "cholesterol2    2.322e-01  8.599e-02   2.700 0.006927 ** \n",
              "cholesterol3    9.583e-01  1.143e-01   8.382  < 2e-16 ***\n",
              "gluc2           1.101e-01  1.123e-01   0.980 0.327028    \n",
              "gluc3          -2.161e-01  1.251e-01  -1.727 0.084107 .  \n",
              "smoke1         -1.719e-01  2.604e-01  -0.660 0.509116    \n",
              "alco1           1.596e-04  1.276e-01   0.001 0.999002    \n",
              "active1        -1.857e-01  6.920e-02  -2.683 0.007287 ** \n",
              "ap_hi:ap_lo    -1.030e-04  1.952e-04  -0.527 0.597913    \n",
              "gender2:smoke1  4.888e-02  2.821e-01   0.173 0.862434    \n",
              "---\n",
              "Signif. codes:  0 ‘***’ 0.001 ‘**’ 0.01 ‘*’ 0.05 ‘.’ 0.1 ‘ ’ 1\n",
              "\n",
              "(Dispersion parameter for binomial family taken to be 1)\n",
              "\n",
              "    Null deviance: 9677.6  on 6980  degrees of freedom\n",
              "Residual deviance: 7850.3  on 6966  degrees of freedom\n",
              "AIC: 7880.3\n",
              "\n",
              "Number of Fisher Scoring iterations: 5\n"
            ]
          },
          "metadata": {},
          "output_type": "display_data"
        }
      ],
      "source": [
        "lm1 <- glm(cardio~age_y + gender + BMI + ap_hi + ap_lo + cholesterol + gluc + smoke + alco + active + (ap_hi*ap_lo) + (gender*smoke), data = train, family = \"binomial\")\n",
        "summary(lm1)"
      ]
    },
    {
      "cell_type": "markdown",
      "metadata": {
        "id": "HQz8tbdE6DjX"
      },
      "source": [
        "The result is logit(cardio) = -16.2 + 0.05405 * age_y + 0.1043 * gender2 + 0.03021 * BMI + 0.09376 * ap_hi + 0.06603 * ap_lo + 0.3682 * cholesterol2 + 0.9623 * cholesterol3 + 0.0964 * gluc2 - 0.3861 * gluc3 + 0.2294 * smoke - 0.4771 * alco - 0.2402 * active - 0.0004463 (ap_hi * ap_lo) - 0.5499 (gender2 * smoke)."
      ]
    },
    {
      "cell_type": "markdown",
      "metadata": {
        "id": "QBZMWGw-6DjX"
      },
      "source": [
        "Find out the accuracy of prediction of this model on train data by constructing a confusion matrix."
      ]
    },
    {
      "cell_type": "code",
      "execution_count": null,
      "metadata": {
        "id": "OVonbRSE6DjX",
        "outputId": "635c033b-1623-4127-ea10-6096ddd38cda"
      },
      "outputs": [
        {
          "data": {
            "text/plain": [
              "     \n",
              "         0    1\n",
              "  No  2728 1155\n",
              "  Yes  778 2320"
            ]
          },
          "metadata": {},
          "output_type": "display_data"
        }
      ],
      "source": [
        "train$prob <- predict(lm1, train, type = \"response\")\n",
        "train$pred <- NA\n",
        "train$pred[train$prob >= 0.50] <- \"Yes\"\n",
        "train$pred[train$prob < 0.50] <- \"No\"\n",
        "table(train$pred, train$cardio)"
      ]
    },
    {
      "cell_type": "markdown",
      "metadata": {
        "id": "SY9Ywb8H6DjY"
      },
      "source": [
        "Accuracy of the logistic regression model on training data is (2418 + 2630) / 6933 x 100% = 72.81%."
      ]
    },
    {
      "cell_type": "markdown",
      "metadata": {
        "id": "5OPtqXkU6DjY"
      },
      "source": [
        "**Logistic regression model performance on test data**\n",
        "\n",
        "The model performance is evaluated using several indicators based on the number of True Positive (TP), True Negative (TN), False Positive (FP), False Negative (FN) in the confusion matrix. The confusion matrix showing the performance of logistic regression model on test data is below."
      ]
    },
    {
      "cell_type": "code",
      "execution_count": null,
      "metadata": {
        "id": "HOr0cJmk6DjY",
        "outputId": "2c8fd6df-fc5e-4401-94dc-6d2ad91a6012"
      },
      "outputs": [
        {
          "data": {
            "text/plain": [
              "     \n",
              "        0   1\n",
              "  No  522 237\n",
              "  Yes 170 524"
            ]
          },
          "metadata": {},
          "output_type": "display_data"
        }
      ],
      "source": [
        "prob <- predict(lm1, test, type = \"response\")\n",
        "test$pred <- NA\n",
        "test$pred[prob >= 0.50] <- \"Yes\"\n",
        "test$pred[prob < 0.50] <- \"No\"\n",
        "table(test$pred, test$cardio)"
      ]
    },
    {
      "cell_type": "markdown",
      "metadata": {
        "id": "YzMC4iRa6DjY"
      },
      "source": [
        "The accuracy on test data is 72.20%. Recall is 68.60%. Precision is 73.03%. F-measure is 0.707."
      ]
    },
    {
      "cell_type": "code",
      "execution_count": null,
      "metadata": {
        "scrolled": true,
        "id": "icD7Mvls6DjY",
        "outputId": "2d4d2f34-73ad-44b3-c43b-e571aa5ad453"
      },
      "outputs": [
        {
          "name": "stdout",
          "output_type": "stream",
          "text": [
            "\n",
            "The downloaded binary packages are in\n",
            "\t/var/folders/55/bmv00p010454k7lg69139c0w0000gn/T//Rtmp8oonDj/downloaded_packages\n"
          ]
        }
      ],
      "source": [
        "install.packages(\"cvms\")\n",
        "library(cvms)"
      ]
    },
    {
      "cell_type": "code",
      "execution_count": null,
      "metadata": {
        "id": "zhTvfRr56DjY",
        "outputId": "f517b9b0-074b-4473-c2f5-c8c6a59033c7"
      },
      "outputs": [
        {
          "ename": "ERROR",
          "evalue": "Error: `data` and `reference` should be factors with the same levels.\n",
          "output_type": "error",
          "traceback": [
            "Error: `data` and `reference` should be factors with the same levels.\nTraceback:\n",
            "1. confusionMatrix(predict(lm1, train), train$cardio)",
            "2. confusionMatrix.default(predict(lm1, train), train$cardio)",
            "3. stop(\"`data` and `reference` should be factors with the same levels.\", \n .     call. = FALSE)"
          ]
        }
      ],
      "source": [
        "\n",
        "\n",
        "C_mat_train=confusionMatrix(predict(lm1, train), train$cardio)\n",
        "C_mat_test=confusionMatrix(predict(lm1, test), test$cardio)\n",
        "# Tibble for train data\n",
        "tab_fin_train=as_tibble(C_mat_train$table)\n",
        "colnames(tab_fin_train)=c(\"Target\",\"Prediction\",\"N\")\n",
        "# Tibble for test data\n",
        "tab_fin_test=as_tibble(C_mat_test$table)\n",
        "colnames(tab_fin_test)=c(\"Target\",\"Prediction\",\"N\")\n",
        "# Confusion matrix for train data\n",
        "plot_confusion_matrix(tab_fin_train)\n",
        "# Confusion matrix for test data\n",
        "plot_confusion_matrix(tab_fin_test)"
      ]
    },
    {
      "cell_type": "markdown",
      "metadata": {
        "id": "foym-H2c6DjZ"
      },
      "source": [
        "**2. Evaluation model: Classification model**\n",
        "\n",
        "SVM model\n",
        "\n",
        "SVM can efficiently perform classifications using kernel trick, which maps the input data points into high-dimensional feature spaces. It also has regularization parameters which tolerate some errors and avoids overfitting. In our case, there may be some omitted variables i.e. family disease background which may relate to both the occurrence of cardiovascular diseases and other independent variables. SVM helps us minimise the undesired effect caused by these biases. Below is the result of the SVM model based on the train data and the accuracy is 72.35%. This accuracy is slightly lower than the accuracy in the logistic model on the training data i.e. 72.61%, which suggests that the logistic regression model is a good model in this problem."
      ]
    },
    {
      "cell_type": "code",
      "execution_count": null,
      "metadata": {
        "id": "aa8UYKcw6DjZ"
      },
      "outputs": [],
      "source": [
        "set.seed(3000)\n",
        "\n",
        "traincontrol <- trainControl(method = \"repeatedcv\", number = 10, repeats = 3)\n",
        "svm_linear <- train(cardio ~. , data = train, method = \"svmLinear\",\n",
        "                    trControl= traincontrol, preProcess = c(\"center\", \"scale\"), tuneLength = 10)\n",
        "train_predict <- predict(svm_linear, newdata = train)\n",
        "train_predict\n",
        "confusionMatrix(train_predict, train$cardio)"
      ]
    },
    {
      "cell_type": "code",
      "execution_count": null,
      "metadata": {
        "id": "1Xp-FGw-6DjZ",
        "outputId": "24d87ad6-5094-4078-db6d-9ae5866b8366"
      },
      "outputs": [
        {
          "ename": "ERROR",
          "evalue": "Error in confusionMatrix(train_predict, train$cardio): object 'train_predict' not found\n",
          "output_type": "error",
          "traceback": [
            "Error in confusionMatrix(train_predict, train$cardio): object 'train_predict' not found\nTraceback:\n",
            "1. confusionMatrix(train_predict, train$cardio)"
          ]
        }
      ],
      "source": [
        "C_mat_train=confusionMatrix(train_predict, train$cardio)\n",
        "# Tibble for train data\n",
        "tab_fin_train=as_tibble(C_mat_train$table)\n",
        "colnames(tab_fin_train)=c(\"Target\",\"Prediction\",\"N\")\n",
        "# Confusion matrix for train data\n",
        "plot_confusion_matrix(tab_fin_train)"
      ]
    },
    {
      "cell_type": "markdown",
      "metadata": {
        "id": "hWpkrg5T6DjZ"
      },
      "source": [
        "Precision, Recall , F score"
      ]
    },
    {
      "cell_type": "markdown",
      "metadata": {
        "id": "AFOpdzOe6DjZ"
      },
      "source": [
        "SVM performance on test data"
      ]
    },
    {
      "cell_type": "code",
      "execution_count": null,
      "metadata": {
        "id": "YmuRAXi56DjZ",
        "outputId": "56a5d75d-4279-400a-f4a7-f16fdd87df66"
      },
      "outputs": [
        {
          "data": {
            "text/html": [
              "<style>\n",
              ".list-inline {list-style: none; margin:0; padding: 0}\n",
              ".list-inline>li {display: inline-block}\n",
              ".list-inline>li:not(:last-child)::after {content: \"\\00b7\"; padding: 0 .5ex}\n",
              "</style>\n",
              "<ol class=list-inline><li>0</li><li>1</li><li>1</li><li>0</li><li>1</li><li>0</li><li>0</li><li>0</li><li>1</li><li>0</li><li>1</li><li>0</li><li>1</li><li>0</li><li>1</li><li>0</li><li>0</li><li>1</li><li>1</li><li>0</li><li>0</li><li>0</li><li>0</li><li>1</li><li>0</li><li>1</li><li>0</li><li>0</li><li>1</li><li>0</li><li>0</li><li>0</li><li>0</li><li>0</li><li>1</li><li>0</li><li>1</li><li>0</li><li>1</li><li>1</li><li>1</li><li>0</li><li>1</li><li>0</li><li>1</li><li>0</li><li>0</li><li>0</li><li>0</li><li>0</li><li>0</li><li>1</li><li>1</li><li>0</li><li>0</li><li>0</li><li>1</li><li>0</li><li>1</li><li>0</li><li>0</li><li>1</li><li>0</li><li>1</li><li>1</li><li>0</li><li>0</li><li>0</li><li>1</li><li>1</li><li>1</li><li>0</li><li>0</li><li>0</li><li>0</li><li>1</li><li>0</li><li>0</li><li>0</li><li>0</li><li>0</li><li>1</li><li>1</li><li>0</li><li>1</li><li>0</li><li>1</li><li>1</li><li>1</li><li>1</li><li>1</li><li>1</li><li>1</li><li>0</li><li>1</li><li>1</li><li>0</li><li>0</li><li>1</li><li>0</li><li>0</li><li>0</li><li>0</li><li>0</li><li>1</li><li>0</li><li>0</li><li>1</li><li>1</li><li>1</li><li>0</li><li>1</li><li>0</li><li>1</li><li>1</li><li>0</li><li>1</li><li>1</li><li>1</li><li>1</li><li>0</li><li>0</li><li>1</li><li>0</li><li>1</li><li>0</li><li>1</li><li>0</li><li>0</li><li>0</li><li>0</li><li>0</li><li>1</li><li>1</li><li>0</li><li>1</li><li>1</li><li>0</li><li>1</li><li>0</li><li>0</li><li>1</li><li>1</li><li>0</li><li>0</li><li>1</li><li>0</li><li>0</li><li>0</li><li>0</li><li>1</li><li>1</li><li>0</li><li>1</li><li>0</li><li>0</li><li>0</li><li>0</li><li>1</li><li>0</li><li>1</li><li>1</li><li>0</li><li>1</li><li>1</li><li>1</li><li>0</li><li>1</li><li>1</li><li>1</li><li>0</li><li>1</li><li>0</li><li>0</li><li>0</li><li>0</li><li>1</li><li>0</li><li>1</li><li>0</li><li>1</li><li>1</li><li>1</li><li>1</li><li>1</li><li>0</li><li>1</li><li>0</li><li>0</li><li>1</li><li>1</li><li>0</li><li>1</li><li>0</li><li>0</li><li>0</li><li>1</li><li>1</li><li>1</li><li>0</li><li>⋯</li><li>0</li><li>0</li><li>0</li><li>1</li><li>1</li><li>1</li><li>1</li><li>1</li><li>0</li><li>1</li><li>1</li><li>0</li><li>0</li><li>1</li><li>1</li><li>1</li><li>1</li><li>0</li><li>0</li><li>1</li><li>1</li><li>1</li><li>0</li><li>0</li><li>0</li><li>0</li><li>1</li><li>1</li><li>1</li><li>1</li><li>0</li><li>0</li><li>0</li><li>0</li><li>1</li><li>0</li><li>1</li><li>0</li><li>1</li><li>1</li><li>0</li><li>1</li><li>1</li><li>0</li><li>1</li><li>1</li><li>1</li><li>1</li><li>0</li><li>1</li><li>1</li><li>0</li><li>0</li><li>1</li><li>1</li><li>0</li><li>1</li><li>0</li><li>0</li><li>1</li><li>0</li><li>0</li><li>1</li><li>1</li><li>0</li><li>0</li><li>0</li><li>1</li><li>0</li><li>1</li><li>1</li><li>1</li><li>1</li><li>0</li><li>0</li><li>0</li><li>1</li><li>1</li><li>0</li><li>1</li><li>1</li><li>1</li><li>0</li><li>0</li><li>1</li><li>1</li><li>1</li><li>0</li><li>0</li><li>0</li><li>0</li><li>0</li><li>1</li><li>0</li><li>0</li><li>0</li><li>1</li><li>0</li><li>1</li><li>0</li><li>0</li><li>1</li><li>0</li><li>1</li><li>0</li><li>0</li><li>0</li><li>1</li><li>1</li><li>1</li><li>0</li><li>0</li><li>0</li><li>0</li><li>1</li><li>0</li><li>1</li><li>0</li><li>1</li><li>1</li><li>0</li><li>1</li><li>1</li><li>1</li><li>1</li><li>1</li><li>0</li><li>1</li><li>1</li><li>1</li><li>0</li><li>1</li><li>0</li><li>1</li><li>1</li><li>1</li><li>1</li><li>0</li><li>1</li><li>1</li><li>0</li><li>1</li><li>0</li><li>1</li><li>0</li><li>0</li><li>0</li><li>1</li><li>1</li><li>0</li><li>0</li><li>0</li><li>1</li><li>1</li><li>1</li><li>0</li><li>0</li><li>1</li><li>0</li><li>0</li><li>1</li><li>1</li><li>1</li><li>0</li><li>0</li><li>0</li><li>0</li><li>1</li><li>0</li><li>0</li><li>0</li><li>1</li><li>0</li><li>1</li><li>1</li><li>1</li><li>1</li><li>1</li><li>0</li><li>1</li><li>1</li><li>0</li><li>0</li><li>0</li><li>1</li><li>1</li><li>0</li><li>0</li><li>1</li><li>1</li><li>0</li><li>1</li><li>0</li><li>0</li><li>0</li><li>1</li><li>1</li><li>0</li><li>1</li><li>0</li></ol>\n",
              "\n",
              "<details>\n",
              "\t<summary style=display:list-item;cursor:pointer>\n",
              "\t\t<strong>Levels</strong>:\n",
              "\t</summary>\n",
              "\t<style>\n",
              "\t.list-inline {list-style: none; margin:0; padding: 0}\n",
              "\t.list-inline>li {display: inline-block}\n",
              "\t.list-inline>li:not(:last-child)::after {content: \"\\00b7\"; padding: 0 .5ex}\n",
              "\t</style>\n",
              "\t<ol class=list-inline><li>'0'</li><li>'1'</li></ol>\n",
              "</details>"
            ],
            "text/latex": [
              "\\begin{enumerate*}\n",
              "\\item 0\n",
              "\\item 1\n",
              "\\item 1\n",
              "\\item 0\n",
              "\\item 1\n",
              "\\item 0\n",
              "\\item 0\n",
              "\\item 0\n",
              "\\item 1\n",
              "\\item 0\n",
              "\\item 1\n",
              "\\item 0\n",
              "\\item 1\n",
              "\\item 0\n",
              "\\item 1\n",
              "\\item 0\n",
              "\\item 0\n",
              "\\item 1\n",
              "\\item 1\n",
              "\\item 0\n",
              "\\item 0\n",
              "\\item 0\n",
              "\\item 0\n",
              "\\item 1\n",
              "\\item 0\n",
              "\\item 1\n",
              "\\item 0\n",
              "\\item 0\n",
              "\\item 1\n",
              "\\item 0\n",
              "\\item 0\n",
              "\\item 0\n",
              "\\item 0\n",
              "\\item 0\n",
              "\\item 1\n",
              "\\item 0\n",
              "\\item 1\n",
              "\\item 0\n",
              "\\item 1\n",
              "\\item 1\n",
              "\\item 1\n",
              "\\item 0\n",
              "\\item 1\n",
              "\\item 0\n",
              "\\item 1\n",
              "\\item 0\n",
              "\\item 0\n",
              "\\item 0\n",
              "\\item 0\n",
              "\\item 0\n",
              "\\item 0\n",
              "\\item 1\n",
              "\\item 1\n",
              "\\item 0\n",
              "\\item 0\n",
              "\\item 0\n",
              "\\item 1\n",
              "\\item 0\n",
              "\\item 1\n",
              "\\item 0\n",
              "\\item 0\n",
              "\\item 1\n",
              "\\item 0\n",
              "\\item 1\n",
              "\\item 1\n",
              "\\item 0\n",
              "\\item 0\n",
              "\\item 0\n",
              "\\item 1\n",
              "\\item 1\n",
              "\\item 1\n",
              "\\item 0\n",
              "\\item 0\n",
              "\\item 0\n",
              "\\item 0\n",
              "\\item 1\n",
              "\\item 0\n",
              "\\item 0\n",
              "\\item 0\n",
              "\\item 0\n",
              "\\item 0\n",
              "\\item 1\n",
              "\\item 1\n",
              "\\item 0\n",
              "\\item 1\n",
              "\\item 0\n",
              "\\item 1\n",
              "\\item 1\n",
              "\\item 1\n",
              "\\item 1\n",
              "\\item 1\n",
              "\\item 1\n",
              "\\item 1\n",
              "\\item 0\n",
              "\\item 1\n",
              "\\item 1\n",
              "\\item 0\n",
              "\\item 0\n",
              "\\item 1\n",
              "\\item 0\n",
              "\\item 0\n",
              "\\item 0\n",
              "\\item 0\n",
              "\\item 0\n",
              "\\item 1\n",
              "\\item 0\n",
              "\\item 0\n",
              "\\item 1\n",
              "\\item 1\n",
              "\\item 1\n",
              "\\item 0\n",
              "\\item 1\n",
              "\\item 0\n",
              "\\item 1\n",
              "\\item 1\n",
              "\\item 0\n",
              "\\item 1\n",
              "\\item 1\n",
              "\\item 1\n",
              "\\item 1\n",
              "\\item 0\n",
              "\\item 0\n",
              "\\item 1\n",
              "\\item 0\n",
              "\\item 1\n",
              "\\item 0\n",
              "\\item 1\n",
              "\\item 0\n",
              "\\item 0\n",
              "\\item 0\n",
              "\\item 0\n",
              "\\item 0\n",
              "\\item 1\n",
              "\\item 1\n",
              "\\item 0\n",
              "\\item 1\n",
              "\\item 1\n",
              "\\item 0\n",
              "\\item 1\n",
              "\\item 0\n",
              "\\item 0\n",
              "\\item 1\n",
              "\\item 1\n",
              "\\item 0\n",
              "\\item 0\n",
              "\\item 1\n",
              "\\item 0\n",
              "\\item 0\n",
              "\\item 0\n",
              "\\item 0\n",
              "\\item 1\n",
              "\\item 1\n",
              "\\item 0\n",
              "\\item 1\n",
              "\\item 0\n",
              "\\item 0\n",
              "\\item 0\n",
              "\\item 0\n",
              "\\item 1\n",
              "\\item 0\n",
              "\\item 1\n",
              "\\item 1\n",
              "\\item 0\n",
              "\\item 1\n",
              "\\item 1\n",
              "\\item 1\n",
              "\\item 0\n",
              "\\item 1\n",
              "\\item 1\n",
              "\\item 1\n",
              "\\item 0\n",
              "\\item 1\n",
              "\\item 0\n",
              "\\item 0\n",
              "\\item 0\n",
              "\\item 0\n",
              "\\item 1\n",
              "\\item 0\n",
              "\\item 1\n",
              "\\item 0\n",
              "\\item 1\n",
              "\\item 1\n",
              "\\item 1\n",
              "\\item 1\n",
              "\\item 1\n",
              "\\item 0\n",
              "\\item 1\n",
              "\\item 0\n",
              "\\item 0\n",
              "\\item 1\n",
              "\\item 1\n",
              "\\item 0\n",
              "\\item 1\n",
              "\\item 0\n",
              "\\item 0\n",
              "\\item 0\n",
              "\\item 1\n",
              "\\item 1\n",
              "\\item 1\n",
              "\\item 0\n",
              "\\item ⋯\n",
              "\\item 0\n",
              "\\item 0\n",
              "\\item 0\n",
              "\\item 1\n",
              "\\item 1\n",
              "\\item 1\n",
              "\\item 1\n",
              "\\item 1\n",
              "\\item 0\n",
              "\\item 1\n",
              "\\item 1\n",
              "\\item 0\n",
              "\\item 0\n",
              "\\item 1\n",
              "\\item 1\n",
              "\\item 1\n",
              "\\item 1\n",
              "\\item 0\n",
              "\\item 0\n",
              "\\item 1\n",
              "\\item 1\n",
              "\\item 1\n",
              "\\item 0\n",
              "\\item 0\n",
              "\\item 0\n",
              "\\item 0\n",
              "\\item 1\n",
              "\\item 1\n",
              "\\item 1\n",
              "\\item 1\n",
              "\\item 0\n",
              "\\item 0\n",
              "\\item 0\n",
              "\\item 0\n",
              "\\item 1\n",
              "\\item 0\n",
              "\\item 1\n",
              "\\item 0\n",
              "\\item 1\n",
              "\\item 1\n",
              "\\item 0\n",
              "\\item 1\n",
              "\\item 1\n",
              "\\item 0\n",
              "\\item 1\n",
              "\\item 1\n",
              "\\item 1\n",
              "\\item 1\n",
              "\\item 0\n",
              "\\item 1\n",
              "\\item 1\n",
              "\\item 0\n",
              "\\item 0\n",
              "\\item 1\n",
              "\\item 1\n",
              "\\item 0\n",
              "\\item 1\n",
              "\\item 0\n",
              "\\item 0\n",
              "\\item 1\n",
              "\\item 0\n",
              "\\item 0\n",
              "\\item 1\n",
              "\\item 1\n",
              "\\item 0\n",
              "\\item 0\n",
              "\\item 0\n",
              "\\item 1\n",
              "\\item 0\n",
              "\\item 1\n",
              "\\item 1\n",
              "\\item 1\n",
              "\\item 1\n",
              "\\item 0\n",
              "\\item 0\n",
              "\\item 0\n",
              "\\item 1\n",
              "\\item 1\n",
              "\\item 0\n",
              "\\item 1\n",
              "\\item 1\n",
              "\\item 1\n",
              "\\item 0\n",
              "\\item 0\n",
              "\\item 1\n",
              "\\item 1\n",
              "\\item 1\n",
              "\\item 0\n",
              "\\item 0\n",
              "\\item 0\n",
              "\\item 0\n",
              "\\item 0\n",
              "\\item 1\n",
              "\\item 0\n",
              "\\item 0\n",
              "\\item 0\n",
              "\\item 1\n",
              "\\item 0\n",
              "\\item 1\n",
              "\\item 0\n",
              "\\item 0\n",
              "\\item 1\n",
              "\\item 0\n",
              "\\item 1\n",
              "\\item 0\n",
              "\\item 0\n",
              "\\item 0\n",
              "\\item 1\n",
              "\\item 1\n",
              "\\item 1\n",
              "\\item 0\n",
              "\\item 0\n",
              "\\item 0\n",
              "\\item 0\n",
              "\\item 1\n",
              "\\item 0\n",
              "\\item 1\n",
              "\\item 0\n",
              "\\item 1\n",
              "\\item 1\n",
              "\\item 0\n",
              "\\item 1\n",
              "\\item 1\n",
              "\\item 1\n",
              "\\item 1\n",
              "\\item 1\n",
              "\\item 0\n",
              "\\item 1\n",
              "\\item 1\n",
              "\\item 1\n",
              "\\item 0\n",
              "\\item 1\n",
              "\\item 0\n",
              "\\item 1\n",
              "\\item 1\n",
              "\\item 1\n",
              "\\item 1\n",
              "\\item 0\n",
              "\\item 1\n",
              "\\item 1\n",
              "\\item 0\n",
              "\\item 1\n",
              "\\item 0\n",
              "\\item 1\n",
              "\\item 0\n",
              "\\item 0\n",
              "\\item 0\n",
              "\\item 1\n",
              "\\item 1\n",
              "\\item 0\n",
              "\\item 0\n",
              "\\item 0\n",
              "\\item 1\n",
              "\\item 1\n",
              "\\item 1\n",
              "\\item 0\n",
              "\\item 0\n",
              "\\item 1\n",
              "\\item 0\n",
              "\\item 0\n",
              "\\item 1\n",
              "\\item 1\n",
              "\\item 1\n",
              "\\item 0\n",
              "\\item 0\n",
              "\\item 0\n",
              "\\item 0\n",
              "\\item 1\n",
              "\\item 0\n",
              "\\item 0\n",
              "\\item 0\n",
              "\\item 1\n",
              "\\item 0\n",
              "\\item 1\n",
              "\\item 1\n",
              "\\item 1\n",
              "\\item 1\n",
              "\\item 1\n",
              "\\item 0\n",
              "\\item 1\n",
              "\\item 1\n",
              "\\item 0\n",
              "\\item 0\n",
              "\\item 0\n",
              "\\item 1\n",
              "\\item 1\n",
              "\\item 0\n",
              "\\item 0\n",
              "\\item 1\n",
              "\\item 1\n",
              "\\item 0\n",
              "\\item 1\n",
              "\\item 0\n",
              "\\item 0\n",
              "\\item 0\n",
              "\\item 1\n",
              "\\item 1\n",
              "\\item 0\n",
              "\\item 1\n",
              "\\item 0\n",
              "\\end{enumerate*}\n",
              "\n",
              "\\emph{Levels}: \\begin{enumerate*}\n",
              "\\item '0'\n",
              "\\item '1'\n",
              "\\end{enumerate*}\n"
            ],
            "text/markdown": [
              "1. 0\n",
              "2. 1\n",
              "3. 1\n",
              "4. 0\n",
              "5. 1\n",
              "6. 0\n",
              "7. 0\n",
              "8. 0\n",
              "9. 1\n",
              "10. 0\n",
              "11. 1\n",
              "12. 0\n",
              "13. 1\n",
              "14. 0\n",
              "15. 1\n",
              "16. 0\n",
              "17. 0\n",
              "18. 1\n",
              "19. 1\n",
              "20. 0\n",
              "21. 0\n",
              "22. 0\n",
              "23. 0\n",
              "24. 1\n",
              "25. 0\n",
              "26. 1\n",
              "27. 0\n",
              "28. 0\n",
              "29. 1\n",
              "30. 0\n",
              "31. 0\n",
              "32. 0\n",
              "33. 0\n",
              "34. 0\n",
              "35. 1\n",
              "36. 0\n",
              "37. 1\n",
              "38. 0\n",
              "39. 1\n",
              "40. 1\n",
              "41. 1\n",
              "42. 0\n",
              "43. 1\n",
              "44. 0\n",
              "45. 1\n",
              "46. 0\n",
              "47. 0\n",
              "48. 0\n",
              "49. 0\n",
              "50. 0\n",
              "51. 0\n",
              "52. 1\n",
              "53. 1\n",
              "54. 0\n",
              "55. 0\n",
              "56. 0\n",
              "57. 1\n",
              "58. 0\n",
              "59. 1\n",
              "60. 0\n",
              "61. 0\n",
              "62. 1\n",
              "63. 0\n",
              "64. 1\n",
              "65. 1\n",
              "66. 0\n",
              "67. 0\n",
              "68. 0\n",
              "69. 1\n",
              "70. 1\n",
              "71. 1\n",
              "72. 0\n",
              "73. 0\n",
              "74. 0\n",
              "75. 0\n",
              "76. 1\n",
              "77. 0\n",
              "78. 0\n",
              "79. 0\n",
              "80. 0\n",
              "81. 0\n",
              "82. 1\n",
              "83. 1\n",
              "84. 0\n",
              "85. 1\n",
              "86. 0\n",
              "87. 1\n",
              "88. 1\n",
              "89. 1\n",
              "90. 1\n",
              "91. 1\n",
              "92. 1\n",
              "93. 1\n",
              "94. 0\n",
              "95. 1\n",
              "96. 1\n",
              "97. 0\n",
              "98. 0\n",
              "99. 1\n",
              "100. 0\n",
              "101. 0\n",
              "102. 0\n",
              "103. 0\n",
              "104. 0\n",
              "105. 1\n",
              "106. 0\n",
              "107. 0\n",
              "108. 1\n",
              "109. 1\n",
              "110. 1\n",
              "111. 0\n",
              "112. 1\n",
              "113. 0\n",
              "114. 1\n",
              "115. 1\n",
              "116. 0\n",
              "117. 1\n",
              "118. 1\n",
              "119. 1\n",
              "120. 1\n",
              "121. 0\n",
              "122. 0\n",
              "123. 1\n",
              "124. 0\n",
              "125. 1\n",
              "126. 0\n",
              "127. 1\n",
              "128. 0\n",
              "129. 0\n",
              "130. 0\n",
              "131. 0\n",
              "132. 0\n",
              "133. 1\n",
              "134. 1\n",
              "135. 0\n",
              "136. 1\n",
              "137. 1\n",
              "138. 0\n",
              "139. 1\n",
              "140. 0\n",
              "141. 0\n",
              "142. 1\n",
              "143. 1\n",
              "144. 0\n",
              "145. 0\n",
              "146. 1\n",
              "147. 0\n",
              "148. 0\n",
              "149. 0\n",
              "150. 0\n",
              "151. 1\n",
              "152. 1\n",
              "153. 0\n",
              "154. 1\n",
              "155. 0\n",
              "156. 0\n",
              "157. 0\n",
              "158. 0\n",
              "159. 1\n",
              "160. 0\n",
              "161. 1\n",
              "162. 1\n",
              "163. 0\n",
              "164. 1\n",
              "165. 1\n",
              "166. 1\n",
              "167. 0\n",
              "168. 1\n",
              "169. 1\n",
              "170. 1\n",
              "171. 0\n",
              "172. 1\n",
              "173. 0\n",
              "174. 0\n",
              "175. 0\n",
              "176. 0\n",
              "177. 1\n",
              "178. 0\n",
              "179. 1\n",
              "180. 0\n",
              "181. 1\n",
              "182. 1\n",
              "183. 1\n",
              "184. 1\n",
              "185. 1\n",
              "186. 0\n",
              "187. 1\n",
              "188. 0\n",
              "189. 0\n",
              "190. 1\n",
              "191. 1\n",
              "192. 0\n",
              "193. 1\n",
              "194. 0\n",
              "195. 0\n",
              "196. 0\n",
              "197. 1\n",
              "198. 1\n",
              "199. 1\n",
              "200. 0\n",
              "201. ⋯\n",
              "202. 0\n",
              "203. 0\n",
              "204. 0\n",
              "205. 1\n",
              "206. 1\n",
              "207. 1\n",
              "208. 1\n",
              "209. 1\n",
              "210. 0\n",
              "211. 1\n",
              "212. 1\n",
              "213. 0\n",
              "214. 0\n",
              "215. 1\n",
              "216. 1\n",
              "217. 1\n",
              "218. 1\n",
              "219. 0\n",
              "220. 0\n",
              "221. 1\n",
              "222. 1\n",
              "223. 1\n",
              "224. 0\n",
              "225. 0\n",
              "226. 0\n",
              "227. 0\n",
              "228. 1\n",
              "229. 1\n",
              "230. 1\n",
              "231. 1\n",
              "232. 0\n",
              "233. 0\n",
              "234. 0\n",
              "235. 0\n",
              "236. 1\n",
              "237. 0\n",
              "238. 1\n",
              "239. 0\n",
              "240. 1\n",
              "241. 1\n",
              "242. 0\n",
              "243. 1\n",
              "244. 1\n",
              "245. 0\n",
              "246. 1\n",
              "247. 1\n",
              "248. 1\n",
              "249. 1\n",
              "250. 0\n",
              "251. 1\n",
              "252. 1\n",
              "253. 0\n",
              "254. 0\n",
              "255. 1\n",
              "256. 1\n",
              "257. 0\n",
              "258. 1\n",
              "259. 0\n",
              "260. 0\n",
              "261. 1\n",
              "262. 0\n",
              "263. 0\n",
              "264. 1\n",
              "265. 1\n",
              "266. 0\n",
              "267. 0\n",
              "268. 0\n",
              "269. 1\n",
              "270. 0\n",
              "271. 1\n",
              "272. 1\n",
              "273. 1\n",
              "274. 1\n",
              "275. 0\n",
              "276. 0\n",
              "277. 0\n",
              "278. 1\n",
              "279. 1\n",
              "280. 0\n",
              "281. 1\n",
              "282. 1\n",
              "283. 1\n",
              "284. 0\n",
              "285. 0\n",
              "286. 1\n",
              "287. 1\n",
              "288. 1\n",
              "289. 0\n",
              "290. 0\n",
              "291. 0\n",
              "292. 0\n",
              "293. 0\n",
              "294. 1\n",
              "295. 0\n",
              "296. 0\n",
              "297. 0\n",
              "298. 1\n",
              "299. 0\n",
              "300. 1\n",
              "301. 0\n",
              "302. 0\n",
              "303. 1\n",
              "304. 0\n",
              "305. 1\n",
              "306. 0\n",
              "307. 0\n",
              "308. 0\n",
              "309. 1\n",
              "310. 1\n",
              "311. 1\n",
              "312. 0\n",
              "313. 0\n",
              "314. 0\n",
              "315. 0\n",
              "316. 1\n",
              "317. 0\n",
              "318. 1\n",
              "319. 0\n",
              "320. 1\n",
              "321. 1\n",
              "322. 0\n",
              "323. 1\n",
              "324. 1\n",
              "325. 1\n",
              "326. 1\n",
              "327. 1\n",
              "328. 0\n",
              "329. 1\n",
              "330. 1\n",
              "331. 1\n",
              "332. 0\n",
              "333. 1\n",
              "334. 0\n",
              "335. 1\n",
              "336. 1\n",
              "337. 1\n",
              "338. 1\n",
              "339. 0\n",
              "340. 1\n",
              "341. 1\n",
              "342. 0\n",
              "343. 1\n",
              "344. 0\n",
              "345. 1\n",
              "346. 0\n",
              "347. 0\n",
              "348. 0\n",
              "349. 1\n",
              "350. 1\n",
              "351. 0\n",
              "352. 0\n",
              "353. 0\n",
              "354. 1\n",
              "355. 1\n",
              "356. 1\n",
              "357. 0\n",
              "358. 0\n",
              "359. 1\n",
              "360. 0\n",
              "361. 0\n",
              "362. 1\n",
              "363. 1\n",
              "364. 1\n",
              "365. 0\n",
              "366. 0\n",
              "367. 0\n",
              "368. 0\n",
              "369. 1\n",
              "370. 0\n",
              "371. 0\n",
              "372. 0\n",
              "373. 1\n",
              "374. 0\n",
              "375. 1\n",
              "376. 1\n",
              "377. 1\n",
              "378. 1\n",
              "379. 1\n",
              "380. 0\n",
              "381. 1\n",
              "382. 1\n",
              "383. 0\n",
              "384. 0\n",
              "385. 0\n",
              "386. 1\n",
              "387. 1\n",
              "388. 0\n",
              "389. 0\n",
              "390. 1\n",
              "391. 1\n",
              "392. 0\n",
              "393. 1\n",
              "394. 0\n",
              "395. 0\n",
              "396. 0\n",
              "397. 1\n",
              "398. 1\n",
              "399. 0\n",
              "400. 1\n",
              "401. 0\n",
              "\n",
              "\n",
              "\n",
              "**Levels**: 1. '0'\n",
              "2. '1'\n",
              "\n",
              "\n"
            ],
            "text/plain": [
              "   [1] 0 1 1 0 1 0 0 0 1 0 1 0 1 0 1 0 0 1 1 0 0 0 0 1 0 1 0 0 1 0 0 0 0 0 1 0 1\n",
              "  [38] 0 1 1 1 0 1 0 1 0 0 0 0 0 0 1 1 0 0 0 1 0 1 0 0 1 0 1 1 0 0 0 1 1 1 0 0 0\n",
              "  [75] 0 1 0 0 0 0 0 1 1 0 1 0 1 1 1 1 1 1 1 0 1 1 0 0 1 0 0 0 0 0 1 0 0 1 1 1 0\n",
              " [112] 1 0 1 1 0 1 1 1 1 0 0 1 0 1 0 1 0 0 0 0 0 1 1 0 1 1 0 1 0 0 1 1 0 0 1 0 0\n",
              " [149] 0 0 1 1 0 1 0 0 0 0 1 0 1 1 0 1 1 1 0 1 1 1 0 1 0 0 0 0 1 0 1 0 1 1 1 1 1\n",
              " [186] 0 1 0 0 1 1 0 1 0 0 0 1 1 1 0 1 0 0 1 0 0 1 0 1 0 1 1 0 1 0 1 1 1 1 1 1 0\n",
              " [223] 1 1 1 0 0 1 0 0 0 1 0 1 0 0 0 0 0 1 1 0 0 0 0 0 0 0 1 1 0 0 1 1 0 0 0 0 0\n",
              " [260] 0 1 1 1 1 1 1 0 1 1 0 0 1 0 0 0 0 0 0 1 1 1 0 1 0 1 0 1 0 0 0 0 1 1 1 1 0\n",
              " [297] 1 1 0 0 0 0 0 1 0 1 0 1 1 0 1 1 1 1 1 1 0 0 1 0 0 0 1 0 1 0 1 1 1 1 1 1 1\n",
              " [334] 0 1 0 1 0 0 0 1 1 0 0 0 1 1 0 0 1 0 1 1 0 0 0 0 0 0 0 1 1 1 1 1 0 0 1 1 0\n",
              " [371] 0 0 0 0 0 0 0 0 1 0 0 1 0 0 1 1 1 0 1 1 1 0 0 1 1 1 1 1 1 1 1 1 0 0 0 1 1\n",
              " [408] 1 1 1 0 0 0 0 0 1 0 0 0 1 1 0 0 0 0 1 1 1 1 1 1 0 0 1 1 1 0 0 1 1 1 0 0 1\n",
              " [445] 0 1 1 1 0 1 0 0 0 0 0 0 1 0 1 0 1 0 0 0 1 0 0 0 0 1 1 0 0 0 0 0 1 1 0 1 0\n",
              " [482] 0 1 1 1 0 0 0 1 1 1 1 0 1 0 1 0 1 0 0 0 0 1 0 0 0 0 0 0 0 1 1 1 0 0 0 1 1\n",
              " [519] 0 1 1 0 1 0 1 0 1 1 0 1 1 0 0 1 1 1 0 0 1 1 0 1 1 1 1 0 0 1 0 1 1 1 1 0 1\n",
              " [556] 1 0 1 0 1 0 1 0 0 1 0 0 0 0 0 0 1 1 1 0 1 0 0 0 1 0 0 0 0 0 1 0 0 1 1 0 1\n",
              " [593] 0 0 0 1 0 0 0 1 0 0 0 1 1 0 1 1 1 1 1 1 0 1 0 1 0 1 1 0 0 1 1 0 0 0 1 0 1\n",
              " [630] 0 1 0 0 0 0 0 0 1 0 0 0 0 1 1 1 1 1 1 0 0 0 0 1 0 1 1 0 1 0 1 0 0 1 1 0 1\n",
              " [667] 1 0 1 0 0 0 1 1 1 1 0 1 0 1 1 1 0 0 0 1 0 0 1 0 0 1 1 1 1 0 1 1 0 0 0 1 1\n",
              " [704] 0 1 0 1 1 1 0 0 0 0 1 0 0 1 0 1 0 0 1 1 1 0 0 0 1 1 0 1 1 1 0 1 1 0 1 0 1\n",
              " [741] 0 0 0 1 1 0 0 0 0 1 1 1 1 1 0 1 1 0 0 1 0 1 0 0 1 1 1 0 0 1 0 0 1 0 0 1 0\n",
              " [778] 0 0 1 0 1 1 0 0 0 1 0 0 1 1 0 0 1 1 1 0 0 0 1 1 0 0 1 0 1 0 0 0 0 0 0 0 1\n",
              " [815] 0 1 1 0 1 0 0 1 0 1 1 0 0 0 1 1 0 1 1 1 1 0 0 0 1 0 0 1 1 0 0 1 0 1 0 1 0\n",
              " [852] 0 1 1 0 0 1 0 0 1 1 0 1 1 1 1 0 0 0 1 1 1 1 0 1 0 0 0 1 1 0 0 0 0 1 0 1 0\n",
              " [889] 1 0 0 1 1 0 0 0 0 0 1 0 0 1 1 0 1 1 0 0 1 1 0 0 0 1 1 0 0 1 1 0 0 0 1 0 0\n",
              " [926] 1 0 0 1 0 0 1 1 0 0 0 1 0 1 1 1 1 0 0 0 0 0 1 0 1 1 1 0 1 0 1 1 0 1 0 0 1\n",
              " [963] 1 1 0 1 1 1 0 0 0 0 1 1 1 1 0 1 1 1 1 0 1 0 0 0 0 0 0 0 1 0 0 0 0 1 0 1 0\n",
              "[1000] 0 0 0 0 0 0 1 0 0 1 0 0 1 0 0 0 0 0 0 0 1 0 0 1 1 0 0 0 0 1 1 0 1 1 0 0 1\n",
              "[1037] 0 0 0 1 1 1 1 0 1 0 0 0 0 1 0 0 0 0 0 0 0 0 0 0 1 0 1 0 0 1 1 1 0 0 1 1 1\n",
              "[1074] 0 0 0 1 0 1 0 0 0 1 1 0 1 1 1 0 0 1 0 0 1 0 1 1 0 1 1 0 1 0 1 1 0 0 1 0 1\n",
              "[1111] 0 1 1 1 1 1 1 1 0 0 1 1 0 1 1 1 0 0 1 1 0 1 1 1 1 0 0 1 1 0 0 1 0 0 0 1 0\n",
              "[1148] 0 0 0 0 1 0 1 1 1 1 0 0 0 1 1 0 0 0 1 0 0 0 1 1 0 1 1 1 1 1 1 1 0 1 0 1 0\n",
              "[1185] 1 1 1 1 1 1 0 1 0 0 1 0 1 1 0 0 1 0 1 0 1 1 0 1 1 1 1 0 0 1 1 1 0 0 0 0 1\n",
              "[1222] 1 1 1 0 0 0 1 1 1 1 1 1 0 0 1 1 0 0 0 0 0 0 1 0 0 1 1 0 0 1 0 1 0 0 0 1 1\n",
              "[1259] 1 1 1 0 1 1 0 0 1 1 1 1 0 0 1 1 1 0 0 0 0 1 1 1 1 0 0 0 0 1 0 1 0 1 1 0 1\n",
              "[1296] 1 0 1 1 1 1 0 1 1 0 0 1 1 0 1 0 0 1 0 0 1 1 0 0 0 1 0 1 1 1 1 0 0 0 1 1 0\n",
              "[1333] 1 1 1 0 0 1 1 1 0 0 0 0 0 1 0 0 0 1 0 1 0 0 1 0 1 0 0 0 1 1 1 0 0 0 0 1 0\n",
              "[1370] 1 0 1 1 0 1 1 1 1 1 0 1 1 1 0 1 0 1 1 1 1 0 1 1 0 1 0 1 0 0 0 1 1 0 0 0 1\n",
              "[1407] 1 1 0 0 1 0 0 1 1 1 0 0 0 0 1 0 0 0 1 0 1 1 1 1 1 0 1 1 0 0 0 1 1 0 0 1 1\n",
              "[1444] 0 1 0 0 0 1 1 0 1 0\n",
              "Levels: 0 1"
            ]
          },
          "metadata": {},
          "output_type": "display_data"
        },
        {
          "data": {
            "text/plain": [
              "Confusion Matrix and Statistics\n",
              "\n",
              "          Reference\n",
              "Prediction   0   1\n",
              "         0 522 237\n",
              "         1 170 524\n",
              "                                         \n",
              "               Accuracy : 0.7199         \n",
              "                 95% CI : (0.696, 0.7429)\n",
              "    No Information Rate : 0.5237         \n",
              "    P-Value [Acc > NIR] : < 2e-16        \n",
              "                                         \n",
              "                  Kappa : 0.441          \n",
              "                                         \n",
              " Mcnemar's Test P-Value : 0.00107        \n",
              "                                         \n",
              "            Sensitivity : 0.7543         \n",
              "            Specificity : 0.6886         \n",
              "         Pos Pred Value : 0.6877         \n",
              "         Neg Pred Value : 0.7550         \n",
              "             Prevalence : 0.4763         \n",
              "         Detection Rate : 0.3593         \n",
              "   Detection Prevalence : 0.5224         \n",
              "      Balanced Accuracy : 0.7215         \n",
              "                                         \n",
              "       'Positive' Class : 0              \n",
              "                                         "
            ]
          },
          "metadata": {},
          "output_type": "display_data"
        }
      ],
      "source": [
        "set.seed(3000)\n",
        "test_predict <- predict(svm_linear, newdata = test)\n",
        "test_predict\n",
        "confusionMatrix(test_predict, test$cardio)"
      ]
    },
    {
      "cell_type": "code",
      "execution_count": null,
      "metadata": {
        "id": "NG_dOw6k6DjZ",
        "outputId": "09fcdcfa-0913-42c9-b2af-dd73c0eae057"
      },
      "outputs": [
        {
          "name": "stderr",
          "output_type": "stream",
          "text": [
            "Warning message in plot_confusion_matrix(tab_fin_test):\n",
            "“'ggimage' is missing. Will not plot arrows and zero-shading.”\n",
            "Warning message in plot_confusion_matrix(tab_fin_test):\n",
            "“'rsvg' is missing. Will not plot arrows and zero-shading.”\n",
            "Warning message:\n",
            "“Ignoring unknown parameters: linewidth”\n"
          ]
        },
        {
          "data": {
            "image/png": "[encoded data removed]",
            "text/plain": [
              "plot without title"
            ]
          },
          "metadata": {
            "image/png": {
              "height": 420,
              "width": 420
            }
          },
          "output_type": "display_data"
        }
      ],
      "source": [
        "C_mat_test=confusionMatrix(test_predict, test$cardio)\n",
        "# Tibble for train data\n",
        "tab_fin_test=as_tibble(C_mat_test$table)\n",
        "colnames(tab_fin_test)=c(\"Target\",\"Prediction\",\"N\")\n",
        "# Confusion matrix for train data\n",
        "plot_confusion_matrix(tab_fin_test)"
      ]
    },
    {
      "cell_type": "markdown",
      "metadata": {
        "id": "rHNBR9CL6DjZ"
      },
      "source": [
        "The accuracy on test data is 73.63%, which is slightly higher than but still close to the accuracy in the logistic model on the test data i.e. 72.20%, which suggests that the logistic regression model and SVM are good models in solving this problem.\n",
        "\n",
        "In addition, recall is 64.64%, precision is 77.78%, and F-measure is 0.706.**"
      ]
    },
    {
      "cell_type": "markdown",
      "metadata": {
        "id": "E0yaePei6Dja"
      },
      "source": [
        "**3. Alternative evaluation model 1: decision tree**\n",
        "\n",
        "Decision tree provides a tree-like graph which suggests the classification rules from the training set. These rules are used to predict the class labels for new unclassified observations in test data. Each node contains a splitting condition to separate the instances, and each leaf is given a class label.\n",
        "* The result decision tree formed based on the training data is shown below."
      ]
    },
    {
      "cell_type": "code",
      "execution_count": null,
      "metadata": {
        "id": "pGKyXliw6Dja",
        "outputId": "1bd4e5c5-3666-4df5-91e4-bcf33959e28b"
      },
      "outputs": [
        {
          "data": {
            "image/png": "[encoded data removed]",
            "text/plain": [
              "plot without title"
            ]
          },
          "metadata": {
            "image/png": {
              "height": 420,
              "width": 420
            }
          },
          "output_type": "display_data"
        },
        {
          "data": {
            "image/png": "[encoded data removed]",
            "text/plain": [
              "plot without title"
            ]
          },
          "metadata": {
            "image/png": {
              "height": 420,
              "width": 420
            }
          },
          "output_type": "display_data"
        }
      ],
      "source": [
        "fit1 <- rpart(cardio~age_y + gender + BMI + ap_hi + ap_lo + cholesterol + gluc + smoke + alco + active, data=train, method=\"class\")\n",
        "plot(fit1)\n",
        "text(fit1)\n",
        "rpart.plot(fit1, roundint = FALSE , digits = 4)"
      ]
    },
    {
      "cell_type": "markdown",
      "metadata": {
        "id": "DxTahGVj6Dja"
      },
      "source": [
        "From the above decision tree chart, the training data is classified into 4 distinct groups based on classifiers: ap_hi and age. The way of interpreting the decision tree is to classify the new observations based on the values of the variables stated in the classification rules. For example, an individual who has systolic blood pressure below 126 (ap_hi < 126) with age below 53.91 years old (age < 53.91) is less likely to suffer from cardiovascular diseases. Another individual with systolic blood pressure above 126 (ap_hi > 126) is more likely to have cardiovascular diseases."
      ]
    },
    {
      "cell_type": "code",
      "execution_count": null,
      "metadata": {
        "scrolled": true,
        "id": "g0Sx42XZ6Dja",
        "outputId": "3d97c9b7-f02f-433b-f6c0-6f4b0d01844a"
      },
      "outputs": [
        {
          "data": {
            "text/plain": [
              "Confusion Matrix and Statistics\n",
              "\n",
              "          Reference\n",
              "Prediction   0   1\n",
              "         0 547 275\n",
              "         1 145 486\n",
              "                                          \n",
              "               Accuracy : 0.7109          \n",
              "                 95% CI : (0.6869, 0.7342)\n",
              "    No Information Rate : 0.5237          \n",
              "    P-Value [Acc > NIR] : < 2.2e-16       \n",
              "                                          \n",
              "                  Kappa : 0.4255          \n",
              "                                          \n",
              " Mcnemar's Test P-Value : 3.083e-10       \n",
              "                                          \n",
              "            Sensitivity : 0.7905          \n",
              "            Specificity : 0.6386          \n",
              "         Pos Pred Value : 0.6655          \n",
              "         Neg Pred Value : 0.7702          \n",
              "             Prevalence : 0.4763          \n",
              "         Detection Rate : 0.3765          \n",
              "   Detection Prevalence : 0.5657          \n",
              "      Balanced Accuracy : 0.7145          \n",
              "                                          \n",
              "       'Positive' Class : 0               \n",
              "                                          "
            ]
          },
          "metadata": {},
          "output_type": "display_data"
        }
      ],
      "source": [
        "prediction1 <- predict(fit1, test, type=\"class\")\n",
        "confusionMatrix(prediction1, test$cardio)"
      ]
    },
    {
      "cell_type": "code",
      "execution_count": null,
      "metadata": {
        "id": "qqM3zgrv6Dja",
        "outputId": "b380b159-854b-410c-e217-8bc0587b701a"
      },
      "outputs": [
        {
          "name": "stderr",
          "output_type": "stream",
          "text": [
            "Warning message in plot_confusion_matrix(tab_fin_train):\n",
            "“'ggimage' is missing. Will not plot arrows and zero-shading.”\n",
            "Warning message in plot_confusion_matrix(tab_fin_train):\n",
            "“'rsvg' is missing. Will not plot arrows and zero-shading.”\n",
            "Warning message:\n",
            "“Ignoring unknown parameters: linewidth”\n"
          ]
        },
        {
          "data": {
            "image/png": "[encoded data removed]",
            "text/plain": [
              "plot without title"
            ]
          },
          "metadata": {
            "image/png": {
              "height": 420,
              "width": 420
            }
          },
          "output_type": "display_data"
        }
      ],
      "source": [
        "C_mat_train=confusionMatrix(prediction1, test$cardio)\n",
        "# Tibble for train data\n",
        "tab_fin_train=as_tibble(C_mat_train$table)\n",
        "colnames(tab_fin_train)=c(\"Target\",\"Prediction\",\"N\")\n",
        "# Confusion matrix for train data\n",
        "plot_confusion_matrix(tab_fin_train)"
      ]
    },
    {
      "cell_type": "markdown",
      "metadata": {
        "id": "nWHaCr7q6Dja"
      },
      "source": [
        "The confusion matrix showing the performance of decision tree on test data is above.\n",
        "\n",
        "The computed performance indicators are shown below. The accuracy when handling unseen test data is 70.52%, which is lower than the accuracy in the logistic model on the test data i.e. 72.20%. Besides, recall is 66.89%, precision is 71.21%, and F-measure is\n",
        "0.6898."
      ]
    },
    {
      "cell_type": "markdown",
      "metadata": {
        "id": "BQG0s7-C6Djb"
      },
      "source": [
        "**4. Alternative evaluation model 2: Naive Bayes**\n",
        "\n",
        "Naive Bayes classifies observations based on posterior probability, prior probability and the conditional probability of test data. Also, it assumes that the value of a feature in a given class is independent of the values of other features. The confusion matrix showing the performance of decision tree on test data is below."
      ]
    },
    {
      "cell_type": "code",
      "execution_count": null,
      "metadata": {
        "id": "TJbbNu9i6Djb",
        "outputId": "9d86ffe6-2ece-475f-c4ce-8c09d5ae7901"
      },
      "outputs": [
        {
          "data": {
            "text/html": [
              "<style>\n",
              ".list-inline {list-style: none; margin:0; padding: 0}\n",
              ".list-inline>li {display: inline-block}\n",
              ".list-inline>li:not(:last-child)::after {content: \"\\00b7\"; padding: 0 .5ex}\n",
              "</style>\n",
              "<ol class=list-inline><li>0</li><li>1</li><li>1</li><li>0</li><li>1</li><li>0</li><li>0</li><li>0</li><li>1</li><li>0</li><li>1</li><li>0</li><li>1</li><li>0</li><li>1</li><li>0</li><li>0</li><li>1</li><li>1</li><li>0</li><li>0</li><li>0</li><li>0</li><li>1</li><li>0</li><li>0</li><li>0</li><li>1</li><li>1</li><li>0</li><li>0</li><li>0</li><li>0</li><li>0</li><li>1</li><li>0</li><li>1</li><li>0</li><li>0</li><li>1</li><li>1</li><li>0</li><li>1</li><li>0</li><li>1</li><li>0</li><li>0</li><li>0</li><li>0</li><li>0</li><li>0</li><li>1</li><li>1</li><li>0</li><li>0</li><li>0</li><li>1</li><li>0</li><li>0</li><li>0</li><li>0</li><li>1</li><li>0</li><li>1</li><li>1</li><li>0</li><li>0</li><li>0</li><li>0</li><li>1</li><li>1</li><li>0</li><li>0</li><li>0</li><li>0</li><li>1</li><li>0</li><li>0</li><li>0</li><li>0</li><li>0</li><li>1</li><li>1</li><li>0</li><li>0</li><li>0</li><li>1</li><li>1</li><li>1</li><li>1</li><li>1</li><li>1</li><li>1</li><li>0</li><li>1</li><li>1</li><li>0</li><li>1</li><li>1</li><li>0</li><li>0</li><li>0</li><li>0</li><li>1</li><li>1</li><li>0</li><li>0</li><li>1</li><li>1</li><li>1</li><li>0</li><li>1</li><li>0</li><li>1</li><li>1</li><li>0</li><li>1</li><li>1</li><li>1</li><li>1</li><li>0</li><li>0</li><li>0</li><li>0</li><li>1</li><li>0</li><li>1</li><li>0</li><li>0</li><li>0</li><li>0</li><li>0</li><li>1</li><li>1</li><li>0</li><li>1</li><li>1</li><li>0</li><li>1</li><li>0</li><li>0</li><li>1</li><li>0</li><li>0</li><li>0</li><li>1</li><li>0</li><li>0</li><li>0</li><li>0</li><li>1</li><li>1</li><li>0</li><li>1</li><li>0</li><li>0</li><li>0</li><li>0</li><li>1</li><li>0</li><li>1</li><li>1</li><li>0</li><li>1</li><li>1</li><li>0</li><li>0</li><li>1</li><li>1</li><li>1</li><li>0</li><li>1</li><li>0</li><li>0</li><li>0</li><li>0</li><li>1</li><li>0</li><li>1</li><li>0</li><li>0</li><li>1</li><li>1</li><li>1</li><li>1</li><li>0</li><li>1</li><li>0</li><li>0</li><li>1</li><li>1</li><li>0</li><li>1</li><li>0</li><li>0</li><li>0</li><li>1</li><li>1</li><li>1</li><li>0</li><li>⋯</li><li>0</li><li>0</li><li>0</li><li>1</li><li>1</li><li>1</li><li>1</li><li>1</li><li>0</li><li>1</li><li>1</li><li>0</li><li>0</li><li>0</li><li>1</li><li>0</li><li>1</li><li>0</li><li>1</li><li>1</li><li>1</li><li>1</li><li>0</li><li>0</li><li>0</li><li>0</li><li>1</li><li>1</li><li>1</li><li>1</li><li>0</li><li>0</li><li>0</li><li>0</li><li>0</li><li>0</li><li>1</li><li>0</li><li>1</li><li>1</li><li>0</li><li>1</li><li>1</li><li>0</li><li>1</li><li>1</li><li>1</li><li>1</li><li>0</li><li>1</li><li>1</li><li>0</li><li>0</li><li>1</li><li>1</li><li>0</li><li>1</li><li>0</li><li>0</li><li>1</li><li>0</li><li>0</li><li>1</li><li>0</li><li>0</li><li>0</li><li>0</li><li>1</li><li>0</li><li>0</li><li>1</li><li>0</li><li>0</li><li>0</li><li>0</li><li>1</li><li>1</li><li>1</li><li>0</li><li>1</li><li>1</li><li>0</li><li>0</li><li>0</li><li>1</li><li>1</li><li>1</li><li>0</li><li>0</li><li>0</li><li>0</li><li>0</li><li>1</li><li>0</li><li>0</li><li>0</li><li>1</li><li>0</li><li>0</li><li>0</li><li>0</li><li>1</li><li>0</li><li>1</li><li>0</li><li>0</li><li>1</li><li>1</li><li>0</li><li>1</li><li>1</li><li>0</li><li>0</li><li>0</li><li>1</li><li>0</li><li>0</li><li>0</li><li>1</li><li>1</li><li>0</li><li>1</li><li>0</li><li>0</li><li>1</li><li>1</li><li>0</li><li>1</li><li>1</li><li>1</li><li>0</li><li>1</li><li>0</li><li>1</li><li>1</li><li>1</li><li>1</li><li>0</li><li>1</li><li>1</li><li>0</li><li>1</li><li>0</li><li>0</li><li>0</li><li>0</li><li>0</li><li>1</li><li>1</li><li>0</li><li>0</li><li>0</li><li>1</li><li>1</li><li>1</li><li>1</li><li>0</li><li>1</li><li>0</li><li>0</li><li>1</li><li>1</li><li>1</li><li>0</li><li>0</li><li>0</li><li>0</li><li>1</li><li>0</li><li>1</li><li>0</li><li>1</li><li>0</li><li>1</li><li>1</li><li>1</li><li>1</li><li>1</li><li>0</li><li>1</li><li>0</li><li>0</li><li>0</li><li>0</li><li>1</li><li>1</li><li>0</li><li>0</li><li>1</li><li>1</li><li>0</li><li>1</li><li>0</li><li>0</li><li>0</li><li>1</li><li>1</li><li>0</li><li>0</li><li>0</li></ol>\n",
              "\n",
              "<details>\n",
              "\t<summary style=display:list-item;cursor:pointer>\n",
              "\t\t<strong>Levels</strong>:\n",
              "\t</summary>\n",
              "\t<style>\n",
              "\t.list-inline {list-style: none; margin:0; padding: 0}\n",
              "\t.list-inline>li {display: inline-block}\n",
              "\t.list-inline>li:not(:last-child)::after {content: \"\\00b7\"; padding: 0 .5ex}\n",
              "\t</style>\n",
              "\t<ol class=list-inline><li>'0'</li><li>'1'</li></ol>\n",
              "</details>"
            ],
            "text/latex": [
              "\\begin{enumerate*}\n",
              "\\item 0\n",
              "\\item 1\n",
              "\\item 1\n",
              "\\item 0\n",
              "\\item 1\n",
              "\\item 0\n",
              "\\item 0\n",
              "\\item 0\n",
              "\\item 1\n",
              "\\item 0\n",
              "\\item 1\n",
              "\\item 0\n",
              "\\item 1\n",
              "\\item 0\n",
              "\\item 1\n",
              "\\item 0\n",
              "\\item 0\n",
              "\\item 1\n",
              "\\item 1\n",
              "\\item 0\n",
              "\\item 0\n",
              "\\item 0\n",
              "\\item 0\n",
              "\\item 1\n",
              "\\item 0\n",
              "\\item 0\n",
              "\\item 0\n",
              "\\item 1\n",
              "\\item 1\n",
              "\\item 0\n",
              "\\item 0\n",
              "\\item 0\n",
              "\\item 0\n",
              "\\item 0\n",
              "\\item 1\n",
              "\\item 0\n",
              "\\item 1\n",
              "\\item 0\n",
              "\\item 0\n",
              "\\item 1\n",
              "\\item 1\n",
              "\\item 0\n",
              "\\item 1\n",
              "\\item 0\n",
              "\\item 1\n",
              "\\item 0\n",
              "\\item 0\n",
              "\\item 0\n",
              "\\item 0\n",
              "\\item 0\n",
              "\\item 0\n",
              "\\item 1\n",
              "\\item 1\n",
              "\\item 0\n",
              "\\item 0\n",
              "\\item 0\n",
              "\\item 1\n",
              "\\item 0\n",
              "\\item 0\n",
              "\\item 0\n",
              "\\item 0\n",
              "\\item 1\n",
              "\\item 0\n",
              "\\item 1\n",
              "\\item 1\n",
              "\\item 0\n",
              "\\item 0\n",
              "\\item 0\n",
              "\\item 0\n",
              "\\item 1\n",
              "\\item 1\n",
              "\\item 0\n",
              "\\item 0\n",
              "\\item 0\n",
              "\\item 0\n",
              "\\item 1\n",
              "\\item 0\n",
              "\\item 0\n",
              "\\item 0\n",
              "\\item 0\n",
              "\\item 0\n",
              "\\item 1\n",
              "\\item 1\n",
              "\\item 0\n",
              "\\item 0\n",
              "\\item 0\n",
              "\\item 1\n",
              "\\item 1\n",
              "\\item 1\n",
              "\\item 1\n",
              "\\item 1\n",
              "\\item 1\n",
              "\\item 1\n",
              "\\item 0\n",
              "\\item 1\n",
              "\\item 1\n",
              "\\item 0\n",
              "\\item 1\n",
              "\\item 1\n",
              "\\item 0\n",
              "\\item 0\n",
              "\\item 0\n",
              "\\item 0\n",
              "\\item 1\n",
              "\\item 1\n",
              "\\item 0\n",
              "\\item 0\n",
              "\\item 1\n",
              "\\item 1\n",
              "\\item 1\n",
              "\\item 0\n",
              "\\item 1\n",
              "\\item 0\n",
              "\\item 1\n",
              "\\item 1\n",
              "\\item 0\n",
              "\\item 1\n",
              "\\item 1\n",
              "\\item 1\n",
              "\\item 1\n",
              "\\item 0\n",
              "\\item 0\n",
              "\\item 0\n",
              "\\item 0\n",
              "\\item 1\n",
              "\\item 0\n",
              "\\item 1\n",
              "\\item 0\n",
              "\\item 0\n",
              "\\item 0\n",
              "\\item 0\n",
              "\\item 0\n",
              "\\item 1\n",
              "\\item 1\n",
              "\\item 0\n",
              "\\item 1\n",
              "\\item 1\n",
              "\\item 0\n",
              "\\item 1\n",
              "\\item 0\n",
              "\\item 0\n",
              "\\item 1\n",
              "\\item 0\n",
              "\\item 0\n",
              "\\item 0\n",
              "\\item 1\n",
              "\\item 0\n",
              "\\item 0\n",
              "\\item 0\n",
              "\\item 0\n",
              "\\item 1\n",
              "\\item 1\n",
              "\\item 0\n",
              "\\item 1\n",
              "\\item 0\n",
              "\\item 0\n",
              "\\item 0\n",
              "\\item 0\n",
              "\\item 1\n",
              "\\item 0\n",
              "\\item 1\n",
              "\\item 1\n",
              "\\item 0\n",
              "\\item 1\n",
              "\\item 1\n",
              "\\item 0\n",
              "\\item 0\n",
              "\\item 1\n",
              "\\item 1\n",
              "\\item 1\n",
              "\\item 0\n",
              "\\item 1\n",
              "\\item 0\n",
              "\\item 0\n",
              "\\item 0\n",
              "\\item 0\n",
              "\\item 1\n",
              "\\item 0\n",
              "\\item 1\n",
              "\\item 0\n",
              "\\item 0\n",
              "\\item 1\n",
              "\\item 1\n",
              "\\item 1\n",
              "\\item 1\n",
              "\\item 0\n",
              "\\item 1\n",
              "\\item 0\n",
              "\\item 0\n",
              "\\item 1\n",
              "\\item 1\n",
              "\\item 0\n",
              "\\item 1\n",
              "\\item 0\n",
              "\\item 0\n",
              "\\item 0\n",
              "\\item 1\n",
              "\\item 1\n",
              "\\item 1\n",
              "\\item 0\n",
              "\\item ⋯\n",
              "\\item 0\n",
              "\\item 0\n",
              "\\item 0\n",
              "\\item 1\n",
              "\\item 1\n",
              "\\item 1\n",
              "\\item 1\n",
              "\\item 1\n",
              "\\item 0\n",
              "\\item 1\n",
              "\\item 1\n",
              "\\item 0\n",
              "\\item 0\n",
              "\\item 0\n",
              "\\item 1\n",
              "\\item 0\n",
              "\\item 1\n",
              "\\item 0\n",
              "\\item 1\n",
              "\\item 1\n",
              "\\item 1\n",
              "\\item 1\n",
              "\\item 0\n",
              "\\item 0\n",
              "\\item 0\n",
              "\\item 0\n",
              "\\item 1\n",
              "\\item 1\n",
              "\\item 1\n",
              "\\item 1\n",
              "\\item 0\n",
              "\\item 0\n",
              "\\item 0\n",
              "\\item 0\n",
              "\\item 0\n",
              "\\item 0\n",
              "\\item 1\n",
              "\\item 0\n",
              "\\item 1\n",
              "\\item 1\n",
              "\\item 0\n",
              "\\item 1\n",
              "\\item 1\n",
              "\\item 0\n",
              "\\item 1\n",
              "\\item 1\n",
              "\\item 1\n",
              "\\item 1\n",
              "\\item 0\n",
              "\\item 1\n",
              "\\item 1\n",
              "\\item 0\n",
              "\\item 0\n",
              "\\item 1\n",
              "\\item 1\n",
              "\\item 0\n",
              "\\item 1\n",
              "\\item 0\n",
              "\\item 0\n",
              "\\item 1\n",
              "\\item 0\n",
              "\\item 0\n",
              "\\item 1\n",
              "\\item 0\n",
              "\\item 0\n",
              "\\item 0\n",
              "\\item 0\n",
              "\\item 1\n",
              "\\item 0\n",
              "\\item 0\n",
              "\\item 1\n",
              "\\item 0\n",
              "\\item 0\n",
              "\\item 0\n",
              "\\item 0\n",
              "\\item 1\n",
              "\\item 1\n",
              "\\item 1\n",
              "\\item 0\n",
              "\\item 1\n",
              "\\item 1\n",
              "\\item 0\n",
              "\\item 0\n",
              "\\item 0\n",
              "\\item 1\n",
              "\\item 1\n",
              "\\item 1\n",
              "\\item 0\n",
              "\\item 0\n",
              "\\item 0\n",
              "\\item 0\n",
              "\\item 0\n",
              "\\item 1\n",
              "\\item 0\n",
              "\\item 0\n",
              "\\item 0\n",
              "\\item 1\n",
              "\\item 0\n",
              "\\item 0\n",
              "\\item 0\n",
              "\\item 0\n",
              "\\item 1\n",
              "\\item 0\n",
              "\\item 1\n",
              "\\item 0\n",
              "\\item 0\n",
              "\\item 1\n",
              "\\item 1\n",
              "\\item 0\n",
              "\\item 1\n",
              "\\item 1\n",
              "\\item 0\n",
              "\\item 0\n",
              "\\item 0\n",
              "\\item 1\n",
              "\\item 0\n",
              "\\item 0\n",
              "\\item 0\n",
              "\\item 1\n",
              "\\item 1\n",
              "\\item 0\n",
              "\\item 1\n",
              "\\item 0\n",
              "\\item 0\n",
              "\\item 1\n",
              "\\item 1\n",
              "\\item 0\n",
              "\\item 1\n",
              "\\item 1\n",
              "\\item 1\n",
              "\\item 0\n",
              "\\item 1\n",
              "\\item 0\n",
              "\\item 1\n",
              "\\item 1\n",
              "\\item 1\n",
              "\\item 1\n",
              "\\item 0\n",
              "\\item 1\n",
              "\\item 1\n",
              "\\item 0\n",
              "\\item 1\n",
              "\\item 0\n",
              "\\item 0\n",
              "\\item 0\n",
              "\\item 0\n",
              "\\item 0\n",
              "\\item 1\n",
              "\\item 1\n",
              "\\item 0\n",
              "\\item 0\n",
              "\\item 0\n",
              "\\item 1\n",
              "\\item 1\n",
              "\\item 1\n",
              "\\item 1\n",
              "\\item 0\n",
              "\\item 1\n",
              "\\item 0\n",
              "\\item 0\n",
              "\\item 1\n",
              "\\item 1\n",
              "\\item 1\n",
              "\\item 0\n",
              "\\item 0\n",
              "\\item 0\n",
              "\\item 0\n",
              "\\item 1\n",
              "\\item 0\n",
              "\\item 1\n",
              "\\item 0\n",
              "\\item 1\n",
              "\\item 0\n",
              "\\item 1\n",
              "\\item 1\n",
              "\\item 1\n",
              "\\item 1\n",
              "\\item 1\n",
              "\\item 0\n",
              "\\item 1\n",
              "\\item 0\n",
              "\\item 0\n",
              "\\item 0\n",
              "\\item 0\n",
              "\\item 1\n",
              "\\item 1\n",
              "\\item 0\n",
              "\\item 0\n",
              "\\item 1\n",
              "\\item 1\n",
              "\\item 0\n",
              "\\item 1\n",
              "\\item 0\n",
              "\\item 0\n",
              "\\item 0\n",
              "\\item 1\n",
              "\\item 1\n",
              "\\item 0\n",
              "\\item 0\n",
              "\\item 0\n",
              "\\end{enumerate*}\n",
              "\n",
              "\\emph{Levels}: \\begin{enumerate*}\n",
              "\\item '0'\n",
              "\\item '1'\n",
              "\\end{enumerate*}\n"
            ],
            "text/markdown": [
              "1. 0\n",
              "2. 1\n",
              "3. 1\n",
              "4. 0\n",
              "5. 1\n",
              "6. 0\n",
              "7. 0\n",
              "8. 0\n",
              "9. 1\n",
              "10. 0\n",
              "11. 1\n",
              "12. 0\n",
              "13. 1\n",
              "14. 0\n",
              "15. 1\n",
              "16. 0\n",
              "17. 0\n",
              "18. 1\n",
              "19. 1\n",
              "20. 0\n",
              "21. 0\n",
              "22. 0\n",
              "23. 0\n",
              "24. 1\n",
              "25. 0\n",
              "26. 0\n",
              "27. 0\n",
              "28. 1\n",
              "29. 1\n",
              "30. 0\n",
              "31. 0\n",
              "32. 0\n",
              "33. 0\n",
              "34. 0\n",
              "35. 1\n",
              "36. 0\n",
              "37. 1\n",
              "38. 0\n",
              "39. 0\n",
              "40. 1\n",
              "41. 1\n",
              "42. 0\n",
              "43. 1\n",
              "44. 0\n",
              "45. 1\n",
              "46. 0\n",
              "47. 0\n",
              "48. 0\n",
              "49. 0\n",
              "50. 0\n",
              "51. 0\n",
              "52. 1\n",
              "53. 1\n",
              "54. 0\n",
              "55. 0\n",
              "56. 0\n",
              "57. 1\n",
              "58. 0\n",
              "59. 0\n",
              "60. 0\n",
              "61. 0\n",
              "62. 1\n",
              "63. 0\n",
              "64. 1\n",
              "65. 1\n",
              "66. 0\n",
              "67. 0\n",
              "68. 0\n",
              "69. 0\n",
              "70. 1\n",
              "71. 1\n",
              "72. 0\n",
              "73. 0\n",
              "74. 0\n",
              "75. 0\n",
              "76. 1\n",
              "77. 0\n",
              "78. 0\n",
              "79. 0\n",
              "80. 0\n",
              "81. 0\n",
              "82. 1\n",
              "83. 1\n",
              "84. 0\n",
              "85. 0\n",
              "86. 0\n",
              "87. 1\n",
              "88. 1\n",
              "89. 1\n",
              "90. 1\n",
              "91. 1\n",
              "92. 1\n",
              "93. 1\n",
              "94. 0\n",
              "95. 1\n",
              "96. 1\n",
              "97. 0\n",
              "98. 1\n",
              "99. 1\n",
              "100. 0\n",
              "101. 0\n",
              "102. 0\n",
              "103. 0\n",
              "104. 1\n",
              "105. 1\n",
              "106. 0\n",
              "107. 0\n",
              "108. 1\n",
              "109. 1\n",
              "110. 1\n",
              "111. 0\n",
              "112. 1\n",
              "113. 0\n",
              "114. 1\n",
              "115. 1\n",
              "116. 0\n",
              "117. 1\n",
              "118. 1\n",
              "119. 1\n",
              "120. 1\n",
              "121. 0\n",
              "122. 0\n",
              "123. 0\n",
              "124. 0\n",
              "125. 1\n",
              "126. 0\n",
              "127. 1\n",
              "128. 0\n",
              "129. 0\n",
              "130. 0\n",
              "131. 0\n",
              "132. 0\n",
              "133. 1\n",
              "134. 1\n",
              "135. 0\n",
              "136. 1\n",
              "137. 1\n",
              "138. 0\n",
              "139. 1\n",
              "140. 0\n",
              "141. 0\n",
              "142. 1\n",
              "143. 0\n",
              "144. 0\n",
              "145. 0\n",
              "146. 1\n",
              "147. 0\n",
              "148. 0\n",
              "149. 0\n",
              "150. 0\n",
              "151. 1\n",
              "152. 1\n",
              "153. 0\n",
              "154. 1\n",
              "155. 0\n",
              "156. 0\n",
              "157. 0\n",
              "158. 0\n",
              "159. 1\n",
              "160. 0\n",
              "161. 1\n",
              "162. 1\n",
              "163. 0\n",
              "164. 1\n",
              "165. 1\n",
              "166. 0\n",
              "167. 0\n",
              "168. 1\n",
              "169. 1\n",
              "170. 1\n",
              "171. 0\n",
              "172. 1\n",
              "173. 0\n",
              "174. 0\n",
              "175. 0\n",
              "176. 0\n",
              "177. 1\n",
              "178. 0\n",
              "179. 1\n",
              "180. 0\n",
              "181. 0\n",
              "182. 1\n",
              "183. 1\n",
              "184. 1\n",
              "185. 1\n",
              "186. 0\n",
              "187. 1\n",
              "188. 0\n",
              "189. 0\n",
              "190. 1\n",
              "191. 1\n",
              "192. 0\n",
              "193. 1\n",
              "194. 0\n",
              "195. 0\n",
              "196. 0\n",
              "197. 1\n",
              "198. 1\n",
              "199. 1\n",
              "200. 0\n",
              "201. ⋯\n",
              "202. 0\n",
              "203. 0\n",
              "204. 0\n",
              "205. 1\n",
              "206. 1\n",
              "207. 1\n",
              "208. 1\n",
              "209. 1\n",
              "210. 0\n",
              "211. 1\n",
              "212. 1\n",
              "213. 0\n",
              "214. 0\n",
              "215. 0\n",
              "216. 1\n",
              "217. 0\n",
              "218. 1\n",
              "219. 0\n",
              "220. 1\n",
              "221. 1\n",
              "222. 1\n",
              "223. 1\n",
              "224. 0\n",
              "225. 0\n",
              "226. 0\n",
              "227. 0\n",
              "228. 1\n",
              "229. 1\n",
              "230. 1\n",
              "231. 1\n",
              "232. 0\n",
              "233. 0\n",
              "234. 0\n",
              "235. 0\n",
              "236. 0\n",
              "237. 0\n",
              "238. 1\n",
              "239. 0\n",
              "240. 1\n",
              "241. 1\n",
              "242. 0\n",
              "243. 1\n",
              "244. 1\n",
              "245. 0\n",
              "246. 1\n",
              "247. 1\n",
              "248. 1\n",
              "249. 1\n",
              "250. 0\n",
              "251. 1\n",
              "252. 1\n",
              "253. 0\n",
              "254. 0\n",
              "255. 1\n",
              "256. 1\n",
              "257. 0\n",
              "258. 1\n",
              "259. 0\n",
              "260. 0\n",
              "261. 1\n",
              "262. 0\n",
              "263. 0\n",
              "264. 1\n",
              "265. 0\n",
              "266. 0\n",
              "267. 0\n",
              "268. 0\n",
              "269. 1\n",
              "270. 0\n",
              "271. 0\n",
              "272. 1\n",
              "273. 0\n",
              "274. 0\n",
              "275. 0\n",
              "276. 0\n",
              "277. 1\n",
              "278. 1\n",
              "279. 1\n",
              "280. 0\n",
              "281. 1\n",
              "282. 1\n",
              "283. 0\n",
              "284. 0\n",
              "285. 0\n",
              "286. 1\n",
              "287. 1\n",
              "288. 1\n",
              "289. 0\n",
              "290. 0\n",
              "291. 0\n",
              "292. 0\n",
              "293. 0\n",
              "294. 1\n",
              "295. 0\n",
              "296. 0\n",
              "297. 0\n",
              "298. 1\n",
              "299. 0\n",
              "300. 0\n",
              "301. 0\n",
              "302. 0\n",
              "303. 1\n",
              "304. 0\n",
              "305. 1\n",
              "306. 0\n",
              "307. 0\n",
              "308. 1\n",
              "309. 1\n",
              "310. 0\n",
              "311. 1\n",
              "312. 1\n",
              "313. 0\n",
              "314. 0\n",
              "315. 0\n",
              "316. 1\n",
              "317. 0\n",
              "318. 0\n",
              "319. 0\n",
              "320. 1\n",
              "321. 1\n",
              "322. 0\n",
              "323. 1\n",
              "324. 0\n",
              "325. 0\n",
              "326. 1\n",
              "327. 1\n",
              "328. 0\n",
              "329. 1\n",
              "330. 1\n",
              "331. 1\n",
              "332. 0\n",
              "333. 1\n",
              "334. 0\n",
              "335. 1\n",
              "336. 1\n",
              "337. 1\n",
              "338. 1\n",
              "339. 0\n",
              "340. 1\n",
              "341. 1\n",
              "342. 0\n",
              "343. 1\n",
              "344. 0\n",
              "345. 0\n",
              "346. 0\n",
              "347. 0\n",
              "348. 0\n",
              "349. 1\n",
              "350. 1\n",
              "351. 0\n",
              "352. 0\n",
              "353. 0\n",
              "354. 1\n",
              "355. 1\n",
              "356. 1\n",
              "357. 1\n",
              "358. 0\n",
              "359. 1\n",
              "360. 0\n",
              "361. 0\n",
              "362. 1\n",
              "363. 1\n",
              "364. 1\n",
              "365. 0\n",
              "366. 0\n",
              "367. 0\n",
              "368. 0\n",
              "369. 1\n",
              "370. 0\n",
              "371. 1\n",
              "372. 0\n",
              "373. 1\n",
              "374. 0\n",
              "375. 1\n",
              "376. 1\n",
              "377. 1\n",
              "378. 1\n",
              "379. 1\n",
              "380. 0\n",
              "381. 1\n",
              "382. 0\n",
              "383. 0\n",
              "384. 0\n",
              "385. 0\n",
              "386. 1\n",
              "387. 1\n",
              "388. 0\n",
              "389. 0\n",
              "390. 1\n",
              "391. 1\n",
              "392. 0\n",
              "393. 1\n",
              "394. 0\n",
              "395. 0\n",
              "396. 0\n",
              "397. 1\n",
              "398. 1\n",
              "399. 0\n",
              "400. 0\n",
              "401. 0\n",
              "\n",
              "\n",
              "\n",
              "**Levels**: 1. '0'\n",
              "2. '1'\n",
              "\n",
              "\n"
            ],
            "text/plain": [
              "   [1] 0 1 1 0 1 0 0 0 1 0 1 0 1 0 1 0 0 1 1 0 0 0 0 1 0 0 0 1 1 0 0 0 0 0 1 0 1\n",
              "  [38] 0 0 1 1 0 1 0 1 0 0 0 0 0 0 1 1 0 0 0 1 0 0 0 0 1 0 1 1 0 0 0 0 1 1 0 0 0\n",
              "  [75] 0 1 0 0 0 0 0 1 1 0 0 0 1 1 1 1 1 1 1 0 1 1 0 1 1 0 0 0 0 1 1 0 0 1 1 1 0\n",
              " [112] 1 0 1 1 0 1 1 1 1 0 0 0 0 1 0 1 0 0 0 0 0 1 1 0 1 1 0 1 0 0 1 0 0 0 1 0 0\n",
              " [149] 0 0 1 1 0 1 0 0 0 0 1 0 1 1 0 1 1 0 0 1 1 1 0 1 0 0 0 0 1 0 1 0 0 1 1 1 1\n",
              " [186] 0 1 0 0 1 1 0 1 0 0 0 1 1 1 0 1 0 0 1 0 0 1 0 1 0 0 1 0 1 0 1 1 1 1 1 1 0\n",
              " [223] 1 0 0 0 0 1 0 0 0 1 0 1 0 1 0 0 1 1 1 0 0 0 0 0 0 0 0 1 1 0 1 1 1 0 0 0 0\n",
              " [260] 0 1 1 1 1 1 1 0 1 0 0 0 1 0 0 0 0 0 0 1 1 1 0 1 1 1 0 1 0 0 0 0 1 1 1 0 0\n",
              " [297] 1 1 0 0 0 0 0 1 0 1 0 1 1 0 1 1 0 1 1 0 0 0 1 0 0 0 1 0 1 0 1 1 1 1 1 1 1\n",
              " [334] 0 1 0 1 0 0 0 1 1 0 0 1 1 1 0 0 1 0 1 1 0 0 0 0 0 0 0 1 0 1 1 1 0 0 1 1 0\n",
              " [371] 0 0 0 0 0 0 0 0 1 0 0 1 0 0 1 1 1 0 1 1 1 0 0 1 1 1 1 1 1 1 1 1 0 0 0 1 1\n",
              " [408] 1 1 1 0 1 0 0 1 1 1 0 0 1 1 0 0 0 0 0 0 1 1 0 1 0 0 1 1 1 0 0 1 1 1 0 0 0\n",
              " [445] 0 1 1 1 0 1 0 0 0 0 0 0 1 0 1 0 1 0 0 0 1 0 0 0 0 1 1 0 0 1 0 0 1 1 0 1 0\n",
              " [482] 0 1 1 1 0 0 0 1 0 1 1 0 1 0 1 0 0 0 0 0 0 1 0 0 0 0 0 0 0 1 1 1 0 0 1 1 1\n",
              " [519] 0 1 0 0 1 0 1 0 1 1 0 1 1 0 0 0 1 0 1 0 1 1 0 1 1 1 1 0 0 1 0 1 1 1 1 0 1\n",
              " [556] 1 0 1 0 1 0 1 1 0 0 0 0 0 0 0 0 1 0 0 0 1 0 0 0 0 0 0 0 0 0 1 0 0 1 1 0 1\n",
              " [593] 0 0 0 1 0 0 0 1 0 0 0 1 1 0 1 1 0 1 1 1 0 0 0 1 0 1 1 0 0 1 0 0 0 0 1 0 1\n",
              " [630] 0 0 0 0 0 0 0 0 1 0 0 0 0 1 0 1 0 1 1 0 0 0 0 1 0 1 1 0 1 0 1 0 0 1 1 0 1\n",
              " [667] 1 0 1 0 0 0 1 1 1 1 0 1 0 1 1 1 0 1 0 1 0 0 1 0 0 1 1 1 1 0 0 1 0 0 0 1 1\n",
              " [704] 0 1 0 1 0 1 0 0 0 1 1 0 0 1 0 1 0 0 1 1 1 1 1 0 0 1 1 1 1 1 1 1 1 0 1 0 1\n",
              " [741] 0 1 0 1 0 0 0 0 0 0 1 1 1 1 0 1 1 0 0 1 0 1 0 0 1 1 1 0 0 1 0 0 1 0 0 1 0\n",
              " [778] 0 0 1 0 1 1 0 0 0 1 0 0 1 0 0 0 1 1 1 0 0 0 1 1 0 0 1 0 1 0 0 0 0 0 0 0 1\n",
              " [815] 0 1 1 0 1 0 0 1 0 1 1 0 0 0 1 1 0 1 1 0 1 0 0 0 1 0 0 1 1 0 0 1 0 1 0 1 0\n",
              " [852] 0 1 1 0 0 1 0 0 1 1 0 0 1 1 1 0 0 0 1 1 1 1 0 1 0 0 0 1 1 0 0 0 0 1 0 1 0\n",
              " [889] 0 0 0 1 0 0 0 0 0 0 0 0 0 1 1 0 1 1 0 0 1 1 0 0 1 1 1 0 0 1 1 0 0 0 1 0 0\n",
              " [926] 1 0 0 1 0 0 1 1 0 1 0 0 0 1 1 1 1 0 0 0 0 0 1 0 1 1 1 1 1 0 1 1 1 1 0 0 1\n",
              " [963] 1 1 0 1 1 1 0 0 0 0 1 1 1 1 0 1 1 1 1 0 0 0 0 0 0 0 0 0 1 0 0 0 0 1 0 0 0\n",
              "[1000] 0 0 0 0 0 0 1 0 0 1 0 0 1 0 0 0 0 0 0 0 1 1 0 1 1 1 0 0 0 1 1 0 1 1 0 0 1\n",
              "[1037] 0 0 0 1 1 1 1 0 1 0 0 0 0 1 0 0 0 0 0 0 0 0 0 0 1 0 1 1 0 1 0 1 0 0 1 1 1\n",
              "[1074] 0 0 0 0 0 1 0 0 0 1 1 0 1 1 0 0 0 1 0 0 1 0 1 1 0 1 1 0 1 0 1 0 0 0 0 0 1\n",
              "[1111] 0 1 1 1 0 1 1 1 1 0 1 1 0 1 1 1 0 1 0 1 0 1 1 1 1 0 0 1 1 0 0 1 0 0 0 1 1\n",
              "[1148] 0 0 0 0 1 0 1 1 1 1 0 0 0 1 1 0 0 0 0 0 0 1 1 1 0 1 1 1 1 1 1 1 0 1 0 1 0\n",
              "[1185] 1 0 1 1 1 1 0 1 0 0 1 0 1 0 0 0 1 0 1 0 1 1 0 1 1 1 0 0 0 1 1 1 0 0 0 0 1\n",
              "[1222] 1 0 1 0 0 0 1 1 1 1 0 0 0 0 1 1 0 0 0 0 0 0 0 0 0 1 1 0 1 1 0 1 0 0 0 1 1\n",
              "[1259] 1 1 1 0 1 1 0 0 0 1 0 1 0 1 1 1 1 0 0 0 0 1 1 1 1 0 0 0 0 0 0 1 0 1 1 0 1\n",
              "[1296] 1 0 1 1 1 1 0 1 1 0 0 1 1 0 1 0 0 1 0 0 1 0 0 0 0 1 0 0 1 0 0 0 0 1 1 1 0\n",
              "[1333] 1 1 0 0 0 1 1 1 0 0 0 0 0 1 0 0 0 1 0 0 0 0 1 0 1 0 0 1 1 0 1 1 0 0 0 1 0\n",
              "[1370] 0 0 1 1 0 1 0 0 1 1 0 1 1 1 0 1 0 1 1 1 1 0 1 1 0 1 0 0 0 0 0 1 1 0 0 0 1\n",
              "[1407] 1 1 1 0 1 0 0 1 1 1 0 0 0 0 1 0 1 0 1 0 1 1 1 1 1 0 1 0 0 0 0 1 1 0 0 1 1\n",
              "[1444] 0 1 0 0 0 1 1 0 0 0\n",
              "Levels: 0 1"
            ]
          },
          "metadata": {},
          "output_type": "display_data"
        },
        {
          "data": {
            "text/plain": [
              "Confusion Matrix and Statistics\n",
              "\n",
              "          Reference\n",
              "Prediction    0    1\n",
              "         0 2851 1306\n",
              "         1  655 2169\n",
              "                                          \n",
              "               Accuracy : 0.7191          \n",
              "                 95% CI : (0.7084, 0.7296)\n",
              "    No Information Rate : 0.5022          \n",
              "    P-Value [Acc > NIR] : < 2.2e-16       \n",
              "                                          \n",
              "                  Kappa : 0.4377          \n",
              "                                          \n",
              " Mcnemar's Test P-Value : < 2.2e-16       \n",
              "                                          \n",
              "            Sensitivity : 0.8132          \n",
              "            Specificity : 0.6242          \n",
              "         Pos Pred Value : 0.6858          \n",
              "         Neg Pred Value : 0.7681          \n",
              "             Prevalence : 0.5022          \n",
              "         Detection Rate : 0.4084          \n",
              "   Detection Prevalence : 0.5955          \n",
              "      Balanced Accuracy : 0.7187          \n",
              "                                          \n",
              "       'Positive' Class : 0               \n",
              "                                          "
            ]
          },
          "metadata": {},
          "output_type": "display_data"
        },
        {
          "data": {
            "text/plain": [
              "Confusion Matrix and Statistics\n",
              "\n",
              "          Reference\n",
              "Prediction   0   1\n",
              "         0 533 267\n",
              "         1 159 494\n",
              "                                          \n",
              "               Accuracy : 0.7068          \n",
              "                 95% CI : (0.6827, 0.7301)\n",
              "    No Information Rate : 0.5237          \n",
              "    P-Value [Acc > NIR] : < 2.2e-16       \n",
              "                                          \n",
              "                  Kappa : 0.4164          \n",
              "                                          \n",
              " Mcnemar's Test P-Value : 2.17e-07        \n",
              "                                          \n",
              "            Sensitivity : 0.7702          \n",
              "            Specificity : 0.6491          \n",
              "         Pos Pred Value : 0.6663          \n",
              "         Neg Pred Value : 0.7565          \n",
              "             Prevalence : 0.4763          \n",
              "         Detection Rate : 0.3668          \n",
              "   Detection Prevalence : 0.5506          \n",
              "      Balanced Accuracy : 0.7097          \n",
              "                                          \n",
              "       'Positive' Class : 0               \n",
              "                                          "
            ]
          },
          "metadata": {},
          "output_type": "display_data"
        }
      ],
      "source": [
        "NB <- naiveBayes(cardio ~ age_y + gender + BMI + ap_hi + ap_lo + cholesterol + gluc + smoke + alco + active, data = train)\n",
        "train_predict <- predict(NB, train)\n",
        "test_predict_nb <- predict(NB, test)\n",
        "test_predict\n",
        "cftrain <- confusionMatrix(train_predict, train$cardio)\n",
        "cfm <- confusionMatrix(test_predict_nb, test$cardio)\n",
        "cftrain\n",
        "cfm"
      ]
    },
    {
      "cell_type": "code",
      "execution_count": null,
      "metadata": {
        "id": "PYtQvY-k6Djb",
        "outputId": "ada06f34-c7a1-4eda-97ff-a465def84379"
      },
      "outputs": [
        {
          "name": "stderr",
          "output_type": "stream",
          "text": [
            "Warning message in plot_confusion_matrix(tab_fin_train):\n",
            "“'ggimage' is missing. Will not plot arrows and zero-shading.”\n",
            "Warning message in plot_confusion_matrix(tab_fin_train):\n",
            "“'rsvg' is missing. Will not plot arrows and zero-shading.”\n",
            "Warning message:\n",
            "“Ignoring unknown parameters: linewidth”\n"
          ]
        },
        {
          "data": {
            "image/png": "[encoded data removed]",
            "text/plain": [
              "plot without title"
            ]
          },
          "metadata": {
            "image/png": {
              "height": 420,
              "width": 420
            }
          },
          "output_type": "display_data"
        }
      ],
      "source": [
        "C_mat_train=confusionMatrix(train_predict, train$cardio)\n",
        "# Tibble for train data\n",
        "tab_fin_train=as_tibble(C_mat_train$table)\n",
        "colnames(tab_fin_train)=c(\"Target\",\"Prediction\",\"N\")\n",
        "# Confusion matrix for train data\n",
        "plot_confusion_matrix(tab_fin_train)"
      ]
    },
    {
      "cell_type": "code",
      "execution_count": null,
      "metadata": {
        "id": "H42O6R0y6Djb",
        "outputId": "c38a9911-4b0c-45d5-f417-2f47622fe698"
      },
      "outputs": [
        {
          "name": "stderr",
          "output_type": "stream",
          "text": [
            "Warning message in plot_confusion_matrix(tab_fin_test):\n",
            "“'ggimage' is missing. Will not plot arrows and zero-shading.”\n",
            "Warning message in plot_confusion_matrix(tab_fin_test):\n",
            "“'rsvg' is missing. Will not plot arrows and zero-shading.”\n",
            "Warning message:\n",
            "“Ignoring unknown parameters: linewidth”\n"
          ]
        },
        {
          "data": {
            "image/png": "[encoded data removed]",
            "text/plain": [
              "plot without title"
            ]
          },
          "metadata": {
            "image/png": {
              "height": 420,
              "width": 420
            }
          },
          "output_type": "display_data"
        }
      ],
      "source": [
        "C_mat_test=confusionMatrix(test_predict_nb, test$cardio)\n",
        "# Tibble for train data\n",
        "tab_fin_test=as_tibble(C_mat_test$table)\n",
        "colnames(tab_fin_test)=c(\"Target\",\"Prediction\",\"N\")\n",
        "# Confusion matrix for train data\n",
        "plot_confusion_matrix(tab_fin_test)"
      ]
    },
    {
      "cell_type": "markdown",
      "metadata": {
        "id": "98XdrHzt6Djb"
      },
      "source": [
        "The computed performance indicators are shown below. The accuracy when handling unseen test data is 71.82%, which is lower than the accuracy in the logistic model on the test data i.e. 72.20%."
      ]
    }
  ],
  "metadata": {
    "kernelspec": {
      "display_name": "R",
      "language": "R",
      "name": "ir"
    },
    "language_info": {
      "codemirror_mode": "r",
      "file_extension": ".r",
      "mimetype": "text/x-r-source",
      "name": "R",
      "pygments_lexer": "r",
      "version": "4.2.1"
    },
    "colab": {
      "provenance": []
    }
  },
  "nbformat": 4,
  "nbformat_minor": 0
}